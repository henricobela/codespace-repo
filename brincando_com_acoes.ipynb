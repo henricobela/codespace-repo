{
 "cells": [
  {
   "cell_type": "code",
   "execution_count": 496,
   "metadata": {
    "id": "dIH4LNpYgL2F"
   },
   "outputs": [],
   "source": [
    "import pandas as pd\n",
    "import numpy as np\n",
    "import seaborn as sns\n",
    "import matplotlib.pyplot as plt\n",
    "from datetime import datetime\n",
    "\n",
    "import re"
   ]
  },
  {
   "cell_type": "code",
   "execution_count": 497,
   "metadata": {
    "id": "vgFnpYQZhnNi"
   },
   "outputs": [],
   "source": [
    "df = pd.read_excel(\n",
    "    \"/workspaces/codespace-repo/Operacoes_nao_realizadas.xlsx\", sheet_name=\"AÇÕES\"\n",
    ")"
   ]
  },
  {
   "cell_type": "code",
   "execution_count": 498,
   "metadata": {
    "colab": {
     "base_uri": "https://localhost:8080/",
     "height": 423
    },
    "id": "8z1lALPDhuxF",
    "outputId": "6253f528-9fae-4657-b8bf-49a755fd624f"
   },
   "outputs": [
    {
     "data": {
      "text/html": [
       "<div>\n",
       "<style scoped>\n",
       "    .dataframe tbody tr th:only-of-type {\n",
       "        vertical-align: middle;\n",
       "    }\n",
       "\n",
       "    .dataframe tbody tr th {\n",
       "        vertical-align: top;\n",
       "    }\n",
       "\n",
       "    .dataframe thead th {\n",
       "        text-align: right;\n",
       "    }\n",
       "</style>\n",
       "<table border=\"1\" class=\"dataframe\">\n",
       "  <thead>\n",
       "    <tr style=\"text-align: right;\">\n",
       "      <th></th>\n",
       "      <th>TICK</th>\n",
       "      <th>DATA</th>\n",
       "      <th>W \\ L</th>\n",
       "      <th>BUY \\ SELL</th>\n",
       "      <th>TEMPO GRAF.</th>\n",
       "      <th>GANHO</th>\n",
       "      <th>TIPO</th>\n",
       "    </tr>\n",
       "  </thead>\n",
       "  <tbody>\n",
       "    <tr>\n",
       "      <th>0</th>\n",
       "      <td>PETR4</td>\n",
       "      <td>2021-11-25 00:00:00</td>\n",
       "      <td>W</td>\n",
       "      <td>BUY</td>\n",
       "      <td>15 MIN</td>\n",
       "      <td>0.0194</td>\n",
       "      <td>DT</td>\n",
       "    </tr>\n",
       "    <tr>\n",
       "      <th>1</th>\n",
       "      <td>VALE3</td>\n",
       "      <td>2021-11-30 00:00:00</td>\n",
       "      <td>W</td>\n",
       "      <td>BUY</td>\n",
       "      <td>15 MIN</td>\n",
       "      <td>0.0220</td>\n",
       "      <td>DT</td>\n",
       "    </tr>\n",
       "    <tr>\n",
       "      <th>2</th>\n",
       "      <td>ITUB4</td>\n",
       "      <td>2021-11-30 00:00:00</td>\n",
       "      <td>W</td>\n",
       "      <td>BUY</td>\n",
       "      <td>15 MIN</td>\n",
       "      <td>0.0054</td>\n",
       "      <td>DT</td>\n",
       "    </tr>\n",
       "    <tr>\n",
       "      <th>3</th>\n",
       "      <td>ABEV3</td>\n",
       "      <td>2021-11-30 00:00:00</td>\n",
       "      <td>W</td>\n",
       "      <td>BUY</td>\n",
       "      <td>15 MIN</td>\n",
       "      <td>0.0086</td>\n",
       "      <td>DT</td>\n",
       "    </tr>\n",
       "    <tr>\n",
       "      <th>4</th>\n",
       "      <td>BBDC4</td>\n",
       "      <td>2021-11-30 00:00:00</td>\n",
       "      <td>W</td>\n",
       "      <td>BUY</td>\n",
       "      <td>15 MIN</td>\n",
       "      <td>0.0075</td>\n",
       "      <td>DT</td>\n",
       "    </tr>\n",
       "    <tr>\n",
       "      <th>...</th>\n",
       "      <td>...</td>\n",
       "      <td>...</td>\n",
       "      <td>...</td>\n",
       "      <td>...</td>\n",
       "      <td>...</td>\n",
       "      <td>...</td>\n",
       "      <td>...</td>\n",
       "    </tr>\n",
       "    <tr>\n",
       "      <th>263</th>\n",
       "      <td>BBAS3</td>\n",
       "      <td>2023-01-05 00:00:00</td>\n",
       "      <td>W</td>\n",
       "      <td>BUY</td>\n",
       "      <td>15 MIN</td>\n",
       "      <td>0.0081</td>\n",
       "      <td>DT</td>\n",
       "    </tr>\n",
       "    <tr>\n",
       "      <th>264</th>\n",
       "      <td>ITUB4</td>\n",
       "      <td>2023-01-05 00:00:00</td>\n",
       "      <td>W</td>\n",
       "      <td>BUY</td>\n",
       "      <td>15 MIN</td>\n",
       "      <td>0.0091</td>\n",
       "      <td>DT</td>\n",
       "    </tr>\n",
       "    <tr>\n",
       "      <th>265</th>\n",
       "      <td>PETR4</td>\n",
       "      <td>2023-01-05 00:00:00</td>\n",
       "      <td>W</td>\n",
       "      <td>BUY</td>\n",
       "      <td>15 MIN</td>\n",
       "      <td>0.0185</td>\n",
       "      <td>DT</td>\n",
       "    </tr>\n",
       "    <tr>\n",
       "      <th>266</th>\n",
       "      <td>VALE3</td>\n",
       "      <td>2023-01-05 00:00:00</td>\n",
       "      <td>W</td>\n",
       "      <td>BUY</td>\n",
       "      <td>15 MIN</td>\n",
       "      <td>0.0169</td>\n",
       "      <td>DT</td>\n",
       "    </tr>\n",
       "    <tr>\n",
       "      <th>267</th>\n",
       "      <td>BBDC4</td>\n",
       "      <td>2023-01-06 00:00:00</td>\n",
       "      <td>W</td>\n",
       "      <td>BUY</td>\n",
       "      <td>15 MIN</td>\n",
       "      <td>0.0099</td>\n",
       "      <td>DT</td>\n",
       "    </tr>\n",
       "  </tbody>\n",
       "</table>\n",
       "<p>268 rows × 7 columns</p>\n",
       "</div>"
      ],
      "text/plain": [
       "      TICK                 DATA W \\ L BUY \\ SELL TEMPO GRAF.   GANHO TIPO\n",
       "0    PETR4  2021-11-25 00:00:00    W        BUY       15 MIN  0.0194   DT\n",
       "1    VALE3  2021-11-30 00:00:00     W       BUY       15 MIN  0.0220   DT\n",
       "2    ITUB4  2021-11-30 00:00:00     W       BUY       15 MIN  0.0054   DT\n",
       "3    ABEV3  2021-11-30 00:00:00     W       BUY       15 MIN  0.0086   DT\n",
       "4    BBDC4  2021-11-30 00:00:00     W       BUY       15 MIN  0.0075   DT\n",
       "..     ...                  ...   ...        ...         ...     ...  ...\n",
       "263  BBAS3  2023-01-05 00:00:00     W        BUY      15 MIN  0.0081   DT\n",
       "264  ITUB4  2023-01-05 00:00:00     W        BUY      15 MIN  0.0091   DT\n",
       "265  PETR4  2023-01-05 00:00:00     W        BUY      15 MIN  0.0185   DT\n",
       "266  VALE3  2023-01-05 00:00:00     W        BUY      15 MIN  0.0169   DT\n",
       "267  BBDC4  2023-01-06 00:00:00     W        BUY      15 MIN  0.0099   DT\n",
       "\n",
       "[268 rows x 7 columns]"
      ]
     },
     "execution_count": 498,
     "metadata": {},
     "output_type": "execute_result"
    }
   ],
   "source": [
    "df"
   ]
  },
  {
   "cell_type": "code",
   "execution_count": 499,
   "metadata": {
    "id": "KdS5XeFChuuc"
   },
   "outputs": [],
   "source": [
    "df.rename(\n",
    "    columns={\n",
    "        \"TICK\": \"ticker\",\n",
    "        \"DATA\": \"data\",\n",
    "        \"W \\ L\": \"win_loss\",\n",
    "        \"BUY \\ SELL\": \"buy_sell\",\n",
    "        \"TEMPO GRAF.\": \"time\",\n",
    "        \"GANHO\": \"percentage\",\n",
    "        \"TIPO\": \"type\",\n",
    "    },\n",
    "    inplace=True,\n",
    ")"
   ]
  },
  {
   "cell_type": "code",
   "execution_count": 500,
   "metadata": {
    "colab": {
     "base_uri": "https://localhost:8080/",
     "height": 423
    },
    "id": "qUSXuvtkhur7",
    "outputId": "6b6197e0-081f-44b8-c997-d1877febfd18"
   },
   "outputs": [
    {
     "data": {
      "text/html": [
       "<div>\n",
       "<style scoped>\n",
       "    .dataframe tbody tr th:only-of-type {\n",
       "        vertical-align: middle;\n",
       "    }\n",
       "\n",
       "    .dataframe tbody tr th {\n",
       "        vertical-align: top;\n",
       "    }\n",
       "\n",
       "    .dataframe thead th {\n",
       "        text-align: right;\n",
       "    }\n",
       "</style>\n",
       "<table border=\"1\" class=\"dataframe\">\n",
       "  <thead>\n",
       "    <tr style=\"text-align: right;\">\n",
       "      <th></th>\n",
       "      <th>ticker</th>\n",
       "      <th>data</th>\n",
       "      <th>win_loss</th>\n",
       "      <th>buy_sell</th>\n",
       "      <th>time</th>\n",
       "      <th>percentage</th>\n",
       "      <th>type</th>\n",
       "    </tr>\n",
       "  </thead>\n",
       "  <tbody>\n",
       "    <tr>\n",
       "      <th>0</th>\n",
       "      <td>PETR4</td>\n",
       "      <td>2021-11-25 00:00:00</td>\n",
       "      <td>W</td>\n",
       "      <td>BUY</td>\n",
       "      <td>15 MIN</td>\n",
       "      <td>0.0194</td>\n",
       "      <td>DT</td>\n",
       "    </tr>\n",
       "    <tr>\n",
       "      <th>1</th>\n",
       "      <td>VALE3</td>\n",
       "      <td>2021-11-30 00:00:00</td>\n",
       "      <td>W</td>\n",
       "      <td>BUY</td>\n",
       "      <td>15 MIN</td>\n",
       "      <td>0.0220</td>\n",
       "      <td>DT</td>\n",
       "    </tr>\n",
       "    <tr>\n",
       "      <th>2</th>\n",
       "      <td>ITUB4</td>\n",
       "      <td>2021-11-30 00:00:00</td>\n",
       "      <td>W</td>\n",
       "      <td>BUY</td>\n",
       "      <td>15 MIN</td>\n",
       "      <td>0.0054</td>\n",
       "      <td>DT</td>\n",
       "    </tr>\n",
       "    <tr>\n",
       "      <th>3</th>\n",
       "      <td>ABEV3</td>\n",
       "      <td>2021-11-30 00:00:00</td>\n",
       "      <td>W</td>\n",
       "      <td>BUY</td>\n",
       "      <td>15 MIN</td>\n",
       "      <td>0.0086</td>\n",
       "      <td>DT</td>\n",
       "    </tr>\n",
       "    <tr>\n",
       "      <th>4</th>\n",
       "      <td>BBDC4</td>\n",
       "      <td>2021-11-30 00:00:00</td>\n",
       "      <td>W</td>\n",
       "      <td>BUY</td>\n",
       "      <td>15 MIN</td>\n",
       "      <td>0.0075</td>\n",
       "      <td>DT</td>\n",
       "    </tr>\n",
       "    <tr>\n",
       "      <th>...</th>\n",
       "      <td>...</td>\n",
       "      <td>...</td>\n",
       "      <td>...</td>\n",
       "      <td>...</td>\n",
       "      <td>...</td>\n",
       "      <td>...</td>\n",
       "      <td>...</td>\n",
       "    </tr>\n",
       "    <tr>\n",
       "      <th>263</th>\n",
       "      <td>BBAS3</td>\n",
       "      <td>2023-01-05 00:00:00</td>\n",
       "      <td>W</td>\n",
       "      <td>BUY</td>\n",
       "      <td>15 MIN</td>\n",
       "      <td>0.0081</td>\n",
       "      <td>DT</td>\n",
       "    </tr>\n",
       "    <tr>\n",
       "      <th>264</th>\n",
       "      <td>ITUB4</td>\n",
       "      <td>2023-01-05 00:00:00</td>\n",
       "      <td>W</td>\n",
       "      <td>BUY</td>\n",
       "      <td>15 MIN</td>\n",
       "      <td>0.0091</td>\n",
       "      <td>DT</td>\n",
       "    </tr>\n",
       "    <tr>\n",
       "      <th>265</th>\n",
       "      <td>PETR4</td>\n",
       "      <td>2023-01-05 00:00:00</td>\n",
       "      <td>W</td>\n",
       "      <td>BUY</td>\n",
       "      <td>15 MIN</td>\n",
       "      <td>0.0185</td>\n",
       "      <td>DT</td>\n",
       "    </tr>\n",
       "    <tr>\n",
       "      <th>266</th>\n",
       "      <td>VALE3</td>\n",
       "      <td>2023-01-05 00:00:00</td>\n",
       "      <td>W</td>\n",
       "      <td>BUY</td>\n",
       "      <td>15 MIN</td>\n",
       "      <td>0.0169</td>\n",
       "      <td>DT</td>\n",
       "    </tr>\n",
       "    <tr>\n",
       "      <th>267</th>\n",
       "      <td>BBDC4</td>\n",
       "      <td>2023-01-06 00:00:00</td>\n",
       "      <td>W</td>\n",
       "      <td>BUY</td>\n",
       "      <td>15 MIN</td>\n",
       "      <td>0.0099</td>\n",
       "      <td>DT</td>\n",
       "    </tr>\n",
       "  </tbody>\n",
       "</table>\n",
       "<p>268 rows × 7 columns</p>\n",
       "</div>"
      ],
      "text/plain": [
       "    ticker                 data win_loss buy_sell    time  percentage type\n",
       "0    PETR4  2021-11-25 00:00:00       W      BUY   15 MIN      0.0194   DT\n",
       "1    VALE3  2021-11-30 00:00:00        W     BUY   15 MIN      0.0220   DT\n",
       "2    ITUB4  2021-11-30 00:00:00        W     BUY   15 MIN      0.0054   DT\n",
       "3    ABEV3  2021-11-30 00:00:00        W     BUY   15 MIN      0.0086   DT\n",
       "4    BBDC4  2021-11-30 00:00:00        W     BUY   15 MIN      0.0075   DT\n",
       "..     ...                  ...      ...      ...     ...         ...  ...\n",
       "263  BBAS3  2023-01-05 00:00:00        W      BUY  15 MIN      0.0081   DT\n",
       "264  ITUB4  2023-01-05 00:00:00        W      BUY  15 MIN      0.0091   DT\n",
       "265  PETR4  2023-01-05 00:00:00        W      BUY  15 MIN      0.0185   DT\n",
       "266  VALE3  2023-01-05 00:00:00        W      BUY  15 MIN      0.0169   DT\n",
       "267  BBDC4  2023-01-06 00:00:00        W      BUY  15 MIN      0.0099   DT\n",
       "\n",
       "[268 rows x 7 columns]"
      ]
     },
     "execution_count": 500,
     "metadata": {},
     "output_type": "execute_result"
    }
   ],
   "source": [
    "df"
   ]
  },
  {
   "cell_type": "code",
   "execution_count": 501,
   "metadata": {
    "colab": {
     "base_uri": "https://localhost:8080/"
    },
    "id": "ul5oYqqvhupi",
    "outputId": "ec84069f-5e0e-41b8-ed10-c425368f8389"
   },
   "outputs": [
    {
     "name": "stdout",
     "output_type": "stream",
     "text": [
      "15\n"
     ]
    }
   ],
   "source": [
    "text = \"15 MIN\"\n",
    "new_text = re.sub(\"\\D\", \"\", text)\n",
    "print(new_text)"
   ]
  },
  {
   "cell_type": "code",
   "execution_count": 502,
   "metadata": {
    "colab": {
     "base_uri": "https://localhost:8080/"
    },
    "id": "PjNR4dQwhunC",
    "outputId": "bd246025-f4dd-4a92-9ab6-c4da03849cf1"
   },
   "outputs": [
    {
     "data": {
      "text/plain": [
       "array(['15 MIN', 'SEMANAL', '5 MIN'], dtype=object)"
      ]
     },
     "execution_count": 502,
     "metadata": {},
     "output_type": "execute_result"
    }
   ],
   "source": [
    "df.time.unique()"
   ]
  },
  {
   "cell_type": "code",
   "execution_count": 503,
   "metadata": {
    "id": "7oFlQozAhukn"
   },
   "outputs": [],
   "source": [
    "df.time = df.time.apply(lambda x: 10080 if x == \"SEMANAL\" else re.sub(\"\\D\", \"\", x))"
   ]
  },
  {
   "cell_type": "code",
   "execution_count": 504,
   "metadata": {
    "colab": {
     "base_uri": "https://localhost:8080/"
    },
    "id": "N7vLyM2Xhuii",
    "outputId": "1e5ee7ae-c8b8-4d04-b3a1-fd4822e40833"
   },
   "outputs": [
    {
     "data": {
      "text/plain": [
       "array(['15', 10080, '5'], dtype=object)"
      ]
     },
     "execution_count": 504,
     "metadata": {},
     "output_type": "execute_result"
    }
   ],
   "source": [
    "df.time.unique()"
   ]
  },
  {
   "cell_type": "code",
   "execution_count": 505,
   "metadata": {
    "id": "m2TKY84Zhugg"
   },
   "outputs": [],
   "source": [
    "df.win_loss = df.win_loss.apply(lambda x: re.sub(\"\\s\", \"\", x))"
   ]
  },
  {
   "cell_type": "code",
   "execution_count": 506,
   "metadata": {
    "colab": {
     "base_uri": "https://localhost:8080/",
     "height": 406
    },
    "id": "216Jtdq5hueA",
    "outputId": "2acbd49e-eb7d-46bc-84d3-905a785cde87"
   },
   "outputs": [
    {
     "data": {
      "image/png": "[encoded data removed]",
      "text/plain": [
       "<Figure size 800x600 with 1 Axes>"
      ]
     },
     "metadata": {},
     "output_type": "display_data"
    }
   ],
   "source": [
    "plt.figure(figsize=(8, 6))\n",
    "plt.title(\"GRAFICO DE CONTAGEM DE WIN LOSS\", fontsize=15)\n",
    "\n",
    "ax = sns.countplot(data=df, x=\"win_loss\")\n",
    "\n",
    "plt.xlabel(xlabel=\"Win \\ Loss \\ Neutral\")\n",
    "plt.ylabel(ylabel=\"Contagem\")\n",
    "\n",
    "for patch in ax.patches:\n",
    "    y_value = patch.get_height()\n",
    "    x_value = patch.get_x() + patch.get_width() / 2\n",
    "    space = 1\n",
    "    label = format(y_value)\n",
    "    ax.annotate(\n",
    "        label,\n",
    "        (x_value, y_value),\n",
    "        xytext=(0, space),\n",
    "        textcoords=\"offset points\",\n",
    "        ha=\"center\",\n",
    "        va=\"bottom\",\n",
    "    )\n",
    "\n",
    "plt.xticks(ticks=[0, 1, 2], labels=[\"Win\", \"Loss\", \"Neutral\"]);"
   ]
  },
  {
   "cell_type": "code",
   "execution_count": 507,
   "metadata": {
    "colab": {
     "base_uri": "https://localhost:8080/",
     "height": 546
    },
    "id": "VwwW3YXdk_aB",
    "outputId": "1589f9c3-263d-43c2-e6e7-46adc17ddf2a"
   },
   "outputs": [
    {
     "data": {
      "image/png": "[encoded data removed]",
      "text/plain": [
       "<Figure size 1500x800 with 1 Axes>"
      ]
     },
     "metadata": {},
     "output_type": "display_data"
    }
   ],
   "source": [
    "petrobras = df[df.ticker == \"PETR4\"].ticker.value_counts().sum()\n",
    "bradesco = df[df.ticker == \"BBDC4\"].ticker.value_counts().sum()\n",
    "brasil_bolsa_balcao = df[df.ticker == \"B3SA3\"].ticker.value_counts().sum()\n",
    "itau = df[df.ticker == \"ITUB4\"].ticker.value_counts().sum()\n",
    "ambev = df[df.ticker == \"ABEV3\"].ticker.value_counts().sum()\n",
    "banco_do_brasil = df[df.ticker == \"BBAS3\"].ticker.value_counts().sum()\n",
    "vale = df[df.ticker == \"VALE3\"].ticker.value_counts().sum()\n",
    "itausa = df[df.ticker == \"ITSA4\"].ticker.value_counts().sum()\n",
    "\n",
    "\n",
    "plt.figure(figsize=(15, 8))\n",
    "plt.title(\"GRAFICO DE CONTAGENS DE EMPRESAS E ACOES\", fontsize=20)\n",
    "\n",
    "\n",
    "ax = sns.countplot(\n",
    "    data=df, x=\"ticker\", hue=df.win_loss, order=df.ticker.value_counts().index\n",
    ")\n",
    "\n",
    "for patch in ax.patches:\n",
    "    y_value = patch.get_height()\n",
    "    x_value = patch.get_x() + patch.get_width() / 2\n",
    "    space = 1\n",
    "    label = format(y_value)\n",
    "    ax.annotate(\n",
    "        label,\n",
    "        (x_value, y_value),\n",
    "        xytext=(0, space),\n",
    "        textcoords=\"offset points\",\n",
    "        ha=\"center\",\n",
    "        va=\"bottom\",\n",
    "    )\n",
    "\n",
    "plt.xlabel(xlabel=\"ACOES / EMPRESAS\", fontsize=15)\n",
    "plt.ylabel(ylabel=\"CONTAGENS\", fontsize=15)\n",
    "\n",
    "plt.xticks(\n",
    "    ticks=[0, 1, 2, 3, 4, 5, 6, 7],\n",
    "    labels=[\n",
    "        f\"PETR4\\nPETROBRAS\\nTOTAL: {petrobras}\",\n",
    "        f\"BBDC4\\nBRADESCO\\nTOTAL: {bradesco}\",\n",
    "        f\"B3SA3\\nBRASIL BOLSA BALCAO\\nTOTAL: {brasil_bolsa_balcao}\",\n",
    "        f\"ITUB4\\nITAU\\nTOTAL: {itau}\",\n",
    "        f\"ABEV3\\nAMBEV\\nTOTAL: {ambev}\",\n",
    "        f\"BBAS3\\nBANCO DO BRASIL\\nTOTAL: {banco_do_brasil}\",\n",
    "        f\"VALE3\\nVALE\\nTOTAL: {vale}\",\n",
    "        f\"ITSA4\\nITAUSA\\nTOTAL: {itausa}\",\n",
    "    ],\n",
    ");"
   ]
  },
  {
   "cell_type": "code",
   "execution_count": 508,
   "metadata": {
    "colab": {
     "base_uri": "https://localhost:8080/"
    },
    "id": "nZ8UU63wz1-M",
    "outputId": "7a3a3975-a16d-4272-accf-5cec46677625"
   },
   "outputs": [
    {
     "data": {
      "text/plain": [
       "42"
      ]
     },
     "execution_count": 508,
     "metadata": {},
     "output_type": "execute_result"
    }
   ],
   "source": [
    "df[df.ticker == \"PETR4\"].ticker.value_counts().sum()"
   ]
  },
  {
   "cell_type": "code",
   "execution_count": 509,
   "metadata": {},
   "outputs": [
    {
     "data": {
      "text/html": [
       "<div>\n",
       "<style scoped>\n",
       "    .dataframe tbody tr th:only-of-type {\n",
       "        vertical-align: middle;\n",
       "    }\n",
       "\n",
       "    .dataframe tbody tr th {\n",
       "        vertical-align: top;\n",
       "    }\n",
       "\n",
       "    .dataframe thead th {\n",
       "        text-align: right;\n",
       "    }\n",
       "</style>\n",
       "<table border=\"1\" class=\"dataframe\">\n",
       "  <thead>\n",
       "    <tr style=\"text-align: right;\">\n",
       "      <th></th>\n",
       "      <th>ticker</th>\n",
       "      <th>data</th>\n",
       "      <th>win_loss</th>\n",
       "      <th>buy_sell</th>\n",
       "      <th>time</th>\n",
       "      <th>percentage</th>\n",
       "      <th>type</th>\n",
       "    </tr>\n",
       "  </thead>\n",
       "  <tbody>\n",
       "    <tr>\n",
       "      <th>0</th>\n",
       "      <td>PETR4</td>\n",
       "      <td>2021-11-25 00:00:00</td>\n",
       "      <td>W</td>\n",
       "      <td>BUY</td>\n",
       "      <td>15</td>\n",
       "      <td>0.0194</td>\n",
       "      <td>DT</td>\n",
       "    </tr>\n",
       "    <tr>\n",
       "      <th>1</th>\n",
       "      <td>VALE3</td>\n",
       "      <td>2021-11-30 00:00:00</td>\n",
       "      <td>W</td>\n",
       "      <td>BUY</td>\n",
       "      <td>15</td>\n",
       "      <td>0.0220</td>\n",
       "      <td>DT</td>\n",
       "    </tr>\n",
       "    <tr>\n",
       "      <th>2</th>\n",
       "      <td>ITUB4</td>\n",
       "      <td>2021-11-30 00:00:00</td>\n",
       "      <td>W</td>\n",
       "      <td>BUY</td>\n",
       "      <td>15</td>\n",
       "      <td>0.0054</td>\n",
       "      <td>DT</td>\n",
       "    </tr>\n",
       "    <tr>\n",
       "      <th>3</th>\n",
       "      <td>ABEV3</td>\n",
       "      <td>2021-11-30 00:00:00</td>\n",
       "      <td>W</td>\n",
       "      <td>BUY</td>\n",
       "      <td>15</td>\n",
       "      <td>0.0086</td>\n",
       "      <td>DT</td>\n",
       "    </tr>\n",
       "    <tr>\n",
       "      <th>4</th>\n",
       "      <td>BBDC4</td>\n",
       "      <td>2021-11-30 00:00:00</td>\n",
       "      <td>W</td>\n",
       "      <td>BUY</td>\n",
       "      <td>15</td>\n",
       "      <td>0.0075</td>\n",
       "      <td>DT</td>\n",
       "    </tr>\n",
       "    <tr>\n",
       "      <th>...</th>\n",
       "      <td>...</td>\n",
       "      <td>...</td>\n",
       "      <td>...</td>\n",
       "      <td>...</td>\n",
       "      <td>...</td>\n",
       "      <td>...</td>\n",
       "      <td>...</td>\n",
       "    </tr>\n",
       "    <tr>\n",
       "      <th>263</th>\n",
       "      <td>BBAS3</td>\n",
       "      <td>2023-01-05 00:00:00</td>\n",
       "      <td>W</td>\n",
       "      <td>BUY</td>\n",
       "      <td>15</td>\n",
       "      <td>0.0081</td>\n",
       "      <td>DT</td>\n",
       "    </tr>\n",
       "    <tr>\n",
       "      <th>264</th>\n",
       "      <td>ITUB4</td>\n",
       "      <td>2023-01-05 00:00:00</td>\n",
       "      <td>W</td>\n",
       "      <td>BUY</td>\n",
       "      <td>15</td>\n",
       "      <td>0.0091</td>\n",
       "      <td>DT</td>\n",
       "    </tr>\n",
       "    <tr>\n",
       "      <th>265</th>\n",
       "      <td>PETR4</td>\n",
       "      <td>2023-01-05 00:00:00</td>\n",
       "      <td>W</td>\n",
       "      <td>BUY</td>\n",
       "      <td>15</td>\n",
       "      <td>0.0185</td>\n",
       "      <td>DT</td>\n",
       "    </tr>\n",
       "    <tr>\n",
       "      <th>266</th>\n",
       "      <td>VALE3</td>\n",
       "      <td>2023-01-05 00:00:00</td>\n",
       "      <td>W</td>\n",
       "      <td>BUY</td>\n",
       "      <td>15</td>\n",
       "      <td>0.0169</td>\n",
       "      <td>DT</td>\n",
       "    </tr>\n",
       "    <tr>\n",
       "      <th>267</th>\n",
       "      <td>BBDC4</td>\n",
       "      <td>2023-01-06 00:00:00</td>\n",
       "      <td>W</td>\n",
       "      <td>BUY</td>\n",
       "      <td>15</td>\n",
       "      <td>0.0099</td>\n",
       "      <td>DT</td>\n",
       "    </tr>\n",
       "  </tbody>\n",
       "</table>\n",
       "<p>268 rows × 7 columns</p>\n",
       "</div>"
      ],
      "text/plain": [
       "    ticker                 data win_loss buy_sell time  percentage type\n",
       "0    PETR4  2021-11-25 00:00:00        W     BUY    15      0.0194   DT\n",
       "1    VALE3  2021-11-30 00:00:00        W     BUY    15      0.0220   DT\n",
       "2    ITUB4  2021-11-30 00:00:00        W     BUY    15      0.0054   DT\n",
       "3    ABEV3  2021-11-30 00:00:00        W     BUY    15      0.0086   DT\n",
       "4    BBDC4  2021-11-30 00:00:00        W     BUY    15      0.0075   DT\n",
       "..     ...                  ...      ...      ...  ...         ...  ...\n",
       "263  BBAS3  2023-01-05 00:00:00        W      BUY   15      0.0081   DT\n",
       "264  ITUB4  2023-01-05 00:00:00        W      BUY   15      0.0091   DT\n",
       "265  PETR4  2023-01-05 00:00:00        W      BUY   15      0.0185   DT\n",
       "266  VALE3  2023-01-05 00:00:00        W      BUY   15      0.0169   DT\n",
       "267  BBDC4  2023-01-06 00:00:00        W      BUY   15      0.0099   DT\n",
       "\n",
       "[268 rows x 7 columns]"
      ]
     },
     "execution_count": 509,
     "metadata": {},
     "output_type": "execute_result"
    }
   ],
   "source": [
    "df"
   ]
  },
  {
   "cell_type": "code",
   "execution_count": 510,
   "metadata": {
    "id": "gu0-6oG2rs22"
   },
   "outputs": [],
   "source": [
    "# df.percentage = df.percentage.apply(lambda x: re.sub(\",\", \".\", x))\n",
    "df.percentage = df.percentage.apply(lambda x: x * 100)"
   ]
  },
  {
   "cell_type": "code",
   "execution_count": 511,
   "metadata": {
    "id": "xrSt6lTGrs0e"
   },
   "outputs": [],
   "source": [
    "# df.percentage = df.percentage.apply(lambda x: re.sub(\"%\", \"\", x))"
   ]
  },
  {
   "cell_type": "code",
   "execution_count": 512,
   "metadata": {
    "colab": {
     "base_uri": "https://localhost:8080/",
     "height": 423
    },
    "id": "1p7G7QxLrsyO",
    "outputId": "31460cf4-30ad-4b92-c343-de3a9aa95117"
   },
   "outputs": [
    {
     "data": {
      "text/html": [
       "<div>\n",
       "<style scoped>\n",
       "    .dataframe tbody tr th:only-of-type {\n",
       "        vertical-align: middle;\n",
       "    }\n",
       "\n",
       "    .dataframe tbody tr th {\n",
       "        vertical-align: top;\n",
       "    }\n",
       "\n",
       "    .dataframe thead th {\n",
       "        text-align: right;\n",
       "    }\n",
       "</style>\n",
       "<table border=\"1\" class=\"dataframe\">\n",
       "  <thead>\n",
       "    <tr style=\"text-align: right;\">\n",
       "      <th></th>\n",
       "      <th>ticker</th>\n",
       "      <th>data</th>\n",
       "      <th>win_loss</th>\n",
       "      <th>buy_sell</th>\n",
       "      <th>time</th>\n",
       "      <th>percentage</th>\n",
       "      <th>type</th>\n",
       "    </tr>\n",
       "  </thead>\n",
       "  <tbody>\n",
       "    <tr>\n",
       "      <th>0</th>\n",
       "      <td>PETR4</td>\n",
       "      <td>2021-11-25 00:00:00</td>\n",
       "      <td>W</td>\n",
       "      <td>BUY</td>\n",
       "      <td>15</td>\n",
       "      <td>1.94</td>\n",
       "      <td>DT</td>\n",
       "    </tr>\n",
       "    <tr>\n",
       "      <th>1</th>\n",
       "      <td>VALE3</td>\n",
       "      <td>2021-11-30 00:00:00</td>\n",
       "      <td>W</td>\n",
       "      <td>BUY</td>\n",
       "      <td>15</td>\n",
       "      <td>2.20</td>\n",
       "      <td>DT</td>\n",
       "    </tr>\n",
       "    <tr>\n",
       "      <th>2</th>\n",
       "      <td>ITUB4</td>\n",
       "      <td>2021-11-30 00:00:00</td>\n",
       "      <td>W</td>\n",
       "      <td>BUY</td>\n",
       "      <td>15</td>\n",
       "      <td>0.54</td>\n",
       "      <td>DT</td>\n",
       "    </tr>\n",
       "    <tr>\n",
       "      <th>3</th>\n",
       "      <td>ABEV3</td>\n",
       "      <td>2021-11-30 00:00:00</td>\n",
       "      <td>W</td>\n",
       "      <td>BUY</td>\n",
       "      <td>15</td>\n",
       "      <td>0.86</td>\n",
       "      <td>DT</td>\n",
       "    </tr>\n",
       "    <tr>\n",
       "      <th>4</th>\n",
       "      <td>BBDC4</td>\n",
       "      <td>2021-11-30 00:00:00</td>\n",
       "      <td>W</td>\n",
       "      <td>BUY</td>\n",
       "      <td>15</td>\n",
       "      <td>0.75</td>\n",
       "      <td>DT</td>\n",
       "    </tr>\n",
       "    <tr>\n",
       "      <th>...</th>\n",
       "      <td>...</td>\n",
       "      <td>...</td>\n",
       "      <td>...</td>\n",
       "      <td>...</td>\n",
       "      <td>...</td>\n",
       "      <td>...</td>\n",
       "      <td>...</td>\n",
       "    </tr>\n",
       "    <tr>\n",
       "      <th>263</th>\n",
       "      <td>BBAS3</td>\n",
       "      <td>2023-01-05 00:00:00</td>\n",
       "      <td>W</td>\n",
       "      <td>BUY</td>\n",
       "      <td>15</td>\n",
       "      <td>0.81</td>\n",
       "      <td>DT</td>\n",
       "    </tr>\n",
       "    <tr>\n",
       "      <th>264</th>\n",
       "      <td>ITUB4</td>\n",
       "      <td>2023-01-05 00:00:00</td>\n",
       "      <td>W</td>\n",
       "      <td>BUY</td>\n",
       "      <td>15</td>\n",
       "      <td>0.91</td>\n",
       "      <td>DT</td>\n",
       "    </tr>\n",
       "    <tr>\n",
       "      <th>265</th>\n",
       "      <td>PETR4</td>\n",
       "      <td>2023-01-05 00:00:00</td>\n",
       "      <td>W</td>\n",
       "      <td>BUY</td>\n",
       "      <td>15</td>\n",
       "      <td>1.85</td>\n",
       "      <td>DT</td>\n",
       "    </tr>\n",
       "    <tr>\n",
       "      <th>266</th>\n",
       "      <td>VALE3</td>\n",
       "      <td>2023-01-05 00:00:00</td>\n",
       "      <td>W</td>\n",
       "      <td>BUY</td>\n",
       "      <td>15</td>\n",
       "      <td>1.69</td>\n",
       "      <td>DT</td>\n",
       "    </tr>\n",
       "    <tr>\n",
       "      <th>267</th>\n",
       "      <td>BBDC4</td>\n",
       "      <td>2023-01-06 00:00:00</td>\n",
       "      <td>W</td>\n",
       "      <td>BUY</td>\n",
       "      <td>15</td>\n",
       "      <td>0.99</td>\n",
       "      <td>DT</td>\n",
       "    </tr>\n",
       "  </tbody>\n",
       "</table>\n",
       "<p>268 rows × 7 columns</p>\n",
       "</div>"
      ],
      "text/plain": [
       "    ticker                 data win_loss buy_sell time  percentage type\n",
       "0    PETR4  2021-11-25 00:00:00        W     BUY    15        1.94   DT\n",
       "1    VALE3  2021-11-30 00:00:00        W     BUY    15        2.20   DT\n",
       "2    ITUB4  2021-11-30 00:00:00        W     BUY    15        0.54   DT\n",
       "3    ABEV3  2021-11-30 00:00:00        W     BUY    15        0.86   DT\n",
       "4    BBDC4  2021-11-30 00:00:00        W     BUY    15        0.75   DT\n",
       "..     ...                  ...      ...      ...  ...         ...  ...\n",
       "263  BBAS3  2023-01-05 00:00:00        W      BUY   15        0.81   DT\n",
       "264  ITUB4  2023-01-05 00:00:00        W      BUY   15        0.91   DT\n",
       "265  PETR4  2023-01-05 00:00:00        W      BUY   15        1.85   DT\n",
       "266  VALE3  2023-01-05 00:00:00        W      BUY   15        1.69   DT\n",
       "267  BBDC4  2023-01-06 00:00:00        W      BUY   15        0.99   DT\n",
       "\n",
       "[268 rows x 7 columns]"
      ]
     },
     "execution_count": 512,
     "metadata": {},
     "output_type": "execute_result"
    }
   ],
   "source": [
    "df"
   ]
  },
  {
   "cell_type": "code",
   "execution_count": 513,
   "metadata": {
    "colab": {
     "base_uri": "https://localhost:8080/"
    },
    "id": "IO1_2-HbsHpH",
    "outputId": "201fb208-61f8-41d3-919c-3938b7abde5b"
   },
   "outputs": [
    {
     "name": "stdout",
     "output_type": "stream",
     "text": [
      "<class 'pandas.core.frame.DataFrame'>\n",
      "RangeIndex: 268 entries, 0 to 267\n",
      "Data columns (total 7 columns):\n",
      " #   Column      Non-Null Count  Dtype  \n",
      "---  ------      --------------  -----  \n",
      " 0   ticker      266 non-null    object \n",
      " 1   data        268 non-null    object \n",
      " 2   win_loss    268 non-null    object \n",
      " 3   buy_sell    268 non-null    object \n",
      " 4   time        268 non-null    object \n",
      " 5   percentage  268 non-null    float64\n",
      " 6   type        268 non-null    object \n",
      "dtypes: float64(1), object(6)\n",
      "memory usage: 14.8+ KB\n"
     ]
    }
   ],
   "source": [
    "df.info()"
   ]
  },
  {
   "cell_type": "code",
   "execution_count": 514,
   "metadata": {
    "id": "GwySZ_JVsKvA"
   },
   "outputs": [],
   "source": [
    "df.percentage = df.percentage.astype(float)"
   ]
  },
  {
   "cell_type": "code",
   "execution_count": 515,
   "metadata": {
    "colab": {
     "base_uri": "https://localhost:8080/"
    },
    "id": "d5w5c-YpsSqY",
    "outputId": "29ef040f-c73d-49be-8f47-be4824436f6f"
   },
   "outputs": [
    {
     "name": "stdout",
     "output_type": "stream",
     "text": [
      "<class 'pandas.core.frame.DataFrame'>\n",
      "RangeIndex: 268 entries, 0 to 267\n",
      "Data columns (total 7 columns):\n",
      " #   Column      Non-Null Count  Dtype  \n",
      "---  ------      --------------  -----  \n",
      " 0   ticker      266 non-null    object \n",
      " 1   data        268 non-null    object \n",
      " 2   win_loss    268 non-null    object \n",
      " 3   buy_sell    268 non-null    object \n",
      " 4   time        268 non-null    object \n",
      " 5   percentage  268 non-null    float64\n",
      " 6   type        268 non-null    object \n",
      "dtypes: float64(1), object(6)\n",
      "memory usage: 14.8+ KB\n"
     ]
    }
   ],
   "source": [
    "df.info()"
   ]
  },
  {
   "cell_type": "code",
   "execution_count": 516,
   "metadata": {},
   "outputs": [],
   "source": [
    "df.data = df.data.apply(lambda x: str(x))\n",
    "df.data = df.data.apply(lambda x: \"2021-11-25 00:00:00\" if \"até\" in x else x)  # arrumar\n",
    "df.data = df.data.apply(lambda x: re.sub(\":\", \"\", x))\n",
    "df.data = df.data.apply(lambda x: re.sub(\" \", \"\", x))\n",
    "df.data = df.data.apply(lambda x: x[:-6])\n",
    "df.data = df.data.apply(lambda x: re.sub(\"-\", \"/\", x))\n",
    "df.data = df.data.apply(\n",
    "    lambda x: datetime.strptime(str(x), f\"%Y/%m/%d\").strftime(f\"%d/%m/%Y\")\n",
    ")"
   ]
  },
  {
   "cell_type": "code",
   "execution_count": 517,
   "metadata": {},
   "outputs": [
    {
     "data": {
      "text/html": [
       "<div>\n",
       "<style scoped>\n",
       "    .dataframe tbody tr th:only-of-type {\n",
       "        vertical-align: middle;\n",
       "    }\n",
       "\n",
       "    .dataframe tbody tr th {\n",
       "        vertical-align: top;\n",
       "    }\n",
       "\n",
       "    .dataframe thead th {\n",
       "        text-align: right;\n",
       "    }\n",
       "</style>\n",
       "<table border=\"1\" class=\"dataframe\">\n",
       "  <thead>\n",
       "    <tr style=\"text-align: right;\">\n",
       "      <th></th>\n",
       "      <th>ticker</th>\n",
       "      <th>data</th>\n",
       "      <th>win_loss</th>\n",
       "      <th>buy_sell</th>\n",
       "      <th>time</th>\n",
       "      <th>percentage</th>\n",
       "      <th>type</th>\n",
       "    </tr>\n",
       "  </thead>\n",
       "  <tbody>\n",
       "    <tr>\n",
       "      <th>0</th>\n",
       "      <td>PETR4</td>\n",
       "      <td>25/11/2021</td>\n",
       "      <td>W</td>\n",
       "      <td>BUY</td>\n",
       "      <td>15</td>\n",
       "      <td>1.94</td>\n",
       "      <td>DT</td>\n",
       "    </tr>\n",
       "    <tr>\n",
       "      <th>1</th>\n",
       "      <td>VALE3</td>\n",
       "      <td>30/11/2021</td>\n",
       "      <td>W</td>\n",
       "      <td>BUY</td>\n",
       "      <td>15</td>\n",
       "      <td>2.20</td>\n",
       "      <td>DT</td>\n",
       "    </tr>\n",
       "    <tr>\n",
       "      <th>2</th>\n",
       "      <td>ITUB4</td>\n",
       "      <td>30/11/2021</td>\n",
       "      <td>W</td>\n",
       "      <td>BUY</td>\n",
       "      <td>15</td>\n",
       "      <td>0.54</td>\n",
       "      <td>DT</td>\n",
       "    </tr>\n",
       "    <tr>\n",
       "      <th>3</th>\n",
       "      <td>ABEV3</td>\n",
       "      <td>30/11/2021</td>\n",
       "      <td>W</td>\n",
       "      <td>BUY</td>\n",
       "      <td>15</td>\n",
       "      <td>0.86</td>\n",
       "      <td>DT</td>\n",
       "    </tr>\n",
       "    <tr>\n",
       "      <th>4</th>\n",
       "      <td>BBDC4</td>\n",
       "      <td>30/11/2021</td>\n",
       "      <td>W</td>\n",
       "      <td>BUY</td>\n",
       "      <td>15</td>\n",
       "      <td>0.75</td>\n",
       "      <td>DT</td>\n",
       "    </tr>\n",
       "    <tr>\n",
       "      <th>...</th>\n",
       "      <td>...</td>\n",
       "      <td>...</td>\n",
       "      <td>...</td>\n",
       "      <td>...</td>\n",
       "      <td>...</td>\n",
       "      <td>...</td>\n",
       "      <td>...</td>\n",
       "    </tr>\n",
       "    <tr>\n",
       "      <th>263</th>\n",
       "      <td>BBAS3</td>\n",
       "      <td>05/01/2023</td>\n",
       "      <td>W</td>\n",
       "      <td>BUY</td>\n",
       "      <td>15</td>\n",
       "      <td>0.81</td>\n",
       "      <td>DT</td>\n",
       "    </tr>\n",
       "    <tr>\n",
       "      <th>264</th>\n",
       "      <td>ITUB4</td>\n",
       "      <td>05/01/2023</td>\n",
       "      <td>W</td>\n",
       "      <td>BUY</td>\n",
       "      <td>15</td>\n",
       "      <td>0.91</td>\n",
       "      <td>DT</td>\n",
       "    </tr>\n",
       "    <tr>\n",
       "      <th>265</th>\n",
       "      <td>PETR4</td>\n",
       "      <td>05/01/2023</td>\n",
       "      <td>W</td>\n",
       "      <td>BUY</td>\n",
       "      <td>15</td>\n",
       "      <td>1.85</td>\n",
       "      <td>DT</td>\n",
       "    </tr>\n",
       "    <tr>\n",
       "      <th>266</th>\n",
       "      <td>VALE3</td>\n",
       "      <td>05/01/2023</td>\n",
       "      <td>W</td>\n",
       "      <td>BUY</td>\n",
       "      <td>15</td>\n",
       "      <td>1.69</td>\n",
       "      <td>DT</td>\n",
       "    </tr>\n",
       "    <tr>\n",
       "      <th>267</th>\n",
       "      <td>BBDC4</td>\n",
       "      <td>06/01/2023</td>\n",
       "      <td>W</td>\n",
       "      <td>BUY</td>\n",
       "      <td>15</td>\n",
       "      <td>0.99</td>\n",
       "      <td>DT</td>\n",
       "    </tr>\n",
       "  </tbody>\n",
       "</table>\n",
       "<p>268 rows × 7 columns</p>\n",
       "</div>"
      ],
      "text/plain": [
       "    ticker        data win_loss buy_sell time  percentage type\n",
       "0    PETR4  25/11/2021        W     BUY    15        1.94   DT\n",
       "1    VALE3  30/11/2021        W     BUY    15        2.20   DT\n",
       "2    ITUB4  30/11/2021        W     BUY    15        0.54   DT\n",
       "3    ABEV3  30/11/2021        W     BUY    15        0.86   DT\n",
       "4    BBDC4  30/11/2021        W     BUY    15        0.75   DT\n",
       "..     ...         ...      ...      ...  ...         ...  ...\n",
       "263  BBAS3  05/01/2023        W      BUY   15        0.81   DT\n",
       "264  ITUB4  05/01/2023        W      BUY   15        0.91   DT\n",
       "265  PETR4  05/01/2023        W      BUY   15        1.85   DT\n",
       "266  VALE3  05/01/2023        W      BUY   15        1.69   DT\n",
       "267  BBDC4  06/01/2023        W      BUY   15        0.99   DT\n",
       "\n",
       "[268 rows x 7 columns]"
      ]
     },
     "execution_count": 517,
     "metadata": {},
     "output_type": "execute_result"
    }
   ],
   "source": [
    "df"
   ]
  },
  {
   "cell_type": "code",
   "execution_count": 518,
   "metadata": {
    "id": "16cwzQljk_Xl"
   },
   "outputs": [],
   "source": [
    "wins = df[df.win_loss == \"W\"]"
   ]
  },
  {
   "cell_type": "code",
   "execution_count": 519,
   "metadata": {
    "colab": {
     "base_uri": "https://localhost:8080/",
     "height": 423
    },
    "id": "HW1srs8Rk_VA",
    "outputId": "76ccfae3-2894-4502-ad3f-a875c506f67c"
   },
   "outputs": [
    {
     "data": {
      "text/html": [
       "<div>\n",
       "<style scoped>\n",
       "    .dataframe tbody tr th:only-of-type {\n",
       "        vertical-align: middle;\n",
       "    }\n",
       "\n",
       "    .dataframe tbody tr th {\n",
       "        vertical-align: top;\n",
       "    }\n",
       "\n",
       "    .dataframe thead th {\n",
       "        text-align: right;\n",
       "    }\n",
       "</style>\n",
       "<table border=\"1\" class=\"dataframe\">\n",
       "  <thead>\n",
       "    <tr style=\"text-align: right;\">\n",
       "      <th></th>\n",
       "      <th>ticker</th>\n",
       "      <th>data</th>\n",
       "      <th>win_loss</th>\n",
       "      <th>buy_sell</th>\n",
       "      <th>time</th>\n",
       "      <th>percentage</th>\n",
       "      <th>type</th>\n",
       "    </tr>\n",
       "  </thead>\n",
       "  <tbody>\n",
       "    <tr>\n",
       "      <th>0</th>\n",
       "      <td>PETR4</td>\n",
       "      <td>25/11/2021</td>\n",
       "      <td>W</td>\n",
       "      <td>BUY</td>\n",
       "      <td>15</td>\n",
       "      <td>1.94</td>\n",
       "      <td>DT</td>\n",
       "    </tr>\n",
       "    <tr>\n",
       "      <th>1</th>\n",
       "      <td>VALE3</td>\n",
       "      <td>30/11/2021</td>\n",
       "      <td>W</td>\n",
       "      <td>BUY</td>\n",
       "      <td>15</td>\n",
       "      <td>2.20</td>\n",
       "      <td>DT</td>\n",
       "    </tr>\n",
       "    <tr>\n",
       "      <th>2</th>\n",
       "      <td>ITUB4</td>\n",
       "      <td>30/11/2021</td>\n",
       "      <td>W</td>\n",
       "      <td>BUY</td>\n",
       "      <td>15</td>\n",
       "      <td>0.54</td>\n",
       "      <td>DT</td>\n",
       "    </tr>\n",
       "    <tr>\n",
       "      <th>3</th>\n",
       "      <td>ABEV3</td>\n",
       "      <td>30/11/2021</td>\n",
       "      <td>W</td>\n",
       "      <td>BUY</td>\n",
       "      <td>15</td>\n",
       "      <td>0.86</td>\n",
       "      <td>DT</td>\n",
       "    </tr>\n",
       "    <tr>\n",
       "      <th>4</th>\n",
       "      <td>BBDC4</td>\n",
       "      <td>30/11/2021</td>\n",
       "      <td>W</td>\n",
       "      <td>BUY</td>\n",
       "      <td>15</td>\n",
       "      <td>0.75</td>\n",
       "      <td>DT</td>\n",
       "    </tr>\n",
       "    <tr>\n",
       "      <th>...</th>\n",
       "      <td>...</td>\n",
       "      <td>...</td>\n",
       "      <td>...</td>\n",
       "      <td>...</td>\n",
       "      <td>...</td>\n",
       "      <td>...</td>\n",
       "      <td>...</td>\n",
       "    </tr>\n",
       "    <tr>\n",
       "      <th>263</th>\n",
       "      <td>BBAS3</td>\n",
       "      <td>05/01/2023</td>\n",
       "      <td>W</td>\n",
       "      <td>BUY</td>\n",
       "      <td>15</td>\n",
       "      <td>0.81</td>\n",
       "      <td>DT</td>\n",
       "    </tr>\n",
       "    <tr>\n",
       "      <th>264</th>\n",
       "      <td>ITUB4</td>\n",
       "      <td>05/01/2023</td>\n",
       "      <td>W</td>\n",
       "      <td>BUY</td>\n",
       "      <td>15</td>\n",
       "      <td>0.91</td>\n",
       "      <td>DT</td>\n",
       "    </tr>\n",
       "    <tr>\n",
       "      <th>265</th>\n",
       "      <td>PETR4</td>\n",
       "      <td>05/01/2023</td>\n",
       "      <td>W</td>\n",
       "      <td>BUY</td>\n",
       "      <td>15</td>\n",
       "      <td>1.85</td>\n",
       "      <td>DT</td>\n",
       "    </tr>\n",
       "    <tr>\n",
       "      <th>266</th>\n",
       "      <td>VALE3</td>\n",
       "      <td>05/01/2023</td>\n",
       "      <td>W</td>\n",
       "      <td>BUY</td>\n",
       "      <td>15</td>\n",
       "      <td>1.69</td>\n",
       "      <td>DT</td>\n",
       "    </tr>\n",
       "    <tr>\n",
       "      <th>267</th>\n",
       "      <td>BBDC4</td>\n",
       "      <td>06/01/2023</td>\n",
       "      <td>W</td>\n",
       "      <td>BUY</td>\n",
       "      <td>15</td>\n",
       "      <td>0.99</td>\n",
       "      <td>DT</td>\n",
       "    </tr>\n",
       "  </tbody>\n",
       "</table>\n",
       "<p>226 rows × 7 columns</p>\n",
       "</div>"
      ],
      "text/plain": [
       "    ticker        data win_loss buy_sell time  percentage type\n",
       "0    PETR4  25/11/2021        W     BUY    15        1.94   DT\n",
       "1    VALE3  30/11/2021        W     BUY    15        2.20   DT\n",
       "2    ITUB4  30/11/2021        W     BUY    15        0.54   DT\n",
       "3    ABEV3  30/11/2021        W     BUY    15        0.86   DT\n",
       "4    BBDC4  30/11/2021        W     BUY    15        0.75   DT\n",
       "..     ...         ...      ...      ...  ...         ...  ...\n",
       "263  BBAS3  05/01/2023        W      BUY   15        0.81   DT\n",
       "264  ITUB4  05/01/2023        W      BUY   15        0.91   DT\n",
       "265  PETR4  05/01/2023        W      BUY   15        1.85   DT\n",
       "266  VALE3  05/01/2023        W      BUY   15        1.69   DT\n",
       "267  BBDC4  06/01/2023        W      BUY   15        0.99   DT\n",
       "\n",
       "[226 rows x 7 columns]"
      ]
     },
     "execution_count": 519,
     "metadata": {},
     "output_type": "execute_result"
    }
   ],
   "source": [
    "wins"
   ]
  },
  {
   "cell_type": "code",
   "execution_count": 520,
   "metadata": {
    "colab": {
     "base_uri": "https://localhost:8080/"
    },
    "id": "VwgLh_DIk_Sm",
    "outputId": "2faf0bd1-f8a1-4759-b356-f895b87b802e"
   },
   "outputs": [
    {
     "data": {
      "text/plain": [
       "1.28"
      ]
     },
     "execution_count": 520,
     "metadata": {},
     "output_type": "execute_result"
    }
   ],
   "source": [
    "round(wins.percentage.mean(), 2)"
   ]
  },
  {
   "cell_type": "code",
   "execution_count": 521,
   "metadata": {
    "id": "XUz95wVQk_QK"
   },
   "outputs": [],
   "source": [
    "loss = df[df.win_loss == \"L\"]"
   ]
  },
  {
   "cell_type": "code",
   "execution_count": 522,
   "metadata": {
    "colab": {
     "base_uri": "https://localhost:8080/",
     "height": 206
    },
    "id": "1O79rFjuk_N0",
    "outputId": "e3995a8a-ed61-480e-da74-8a52be437484"
   },
   "outputs": [
    {
     "data": {
      "text/html": [
       "<div>\n",
       "<style scoped>\n",
       "    .dataframe tbody tr th:only-of-type {\n",
       "        vertical-align: middle;\n",
       "    }\n",
       "\n",
       "    .dataframe tbody tr th {\n",
       "        vertical-align: top;\n",
       "    }\n",
       "\n",
       "    .dataframe thead th {\n",
       "        text-align: right;\n",
       "    }\n",
       "</style>\n",
       "<table border=\"1\" class=\"dataframe\">\n",
       "  <thead>\n",
       "    <tr style=\"text-align: right;\">\n",
       "      <th></th>\n",
       "      <th>ticker</th>\n",
       "      <th>data</th>\n",
       "      <th>win_loss</th>\n",
       "      <th>buy_sell</th>\n",
       "      <th>time</th>\n",
       "      <th>percentage</th>\n",
       "      <th>type</th>\n",
       "    </tr>\n",
       "  </thead>\n",
       "  <tbody>\n",
       "    <tr>\n",
       "      <th>8</th>\n",
       "      <td>PETR4</td>\n",
       "      <td>15/12/2021</td>\n",
       "      <td>L</td>\n",
       "      <td>BUY</td>\n",
       "      <td>15</td>\n",
       "      <td>-0.20</td>\n",
       "      <td>DT</td>\n",
       "    </tr>\n",
       "    <tr>\n",
       "      <th>29</th>\n",
       "      <td>ABEV3</td>\n",
       "      <td>31/01/2022</td>\n",
       "      <td>L</td>\n",
       "      <td>BUY</td>\n",
       "      <td>15</td>\n",
       "      <td>-0.42</td>\n",
       "      <td>DT</td>\n",
       "    </tr>\n",
       "    <tr>\n",
       "      <th>34</th>\n",
       "      <td>ITSA4</td>\n",
       "      <td>14/02/2022</td>\n",
       "      <td>L</td>\n",
       "      <td>SELL</td>\n",
       "      <td>5</td>\n",
       "      <td>0.39</td>\n",
       "      <td>DT</td>\n",
       "    </tr>\n",
       "    <tr>\n",
       "      <th>39</th>\n",
       "      <td>ABEV3</td>\n",
       "      <td>21/02/2022</td>\n",
       "      <td>L</td>\n",
       "      <td>SELL</td>\n",
       "      <td>15</td>\n",
       "      <td>-0.61</td>\n",
       "      <td>DT</td>\n",
       "    </tr>\n",
       "    <tr>\n",
       "      <th>40</th>\n",
       "      <td>VALE3</td>\n",
       "      <td>21/02/2022</td>\n",
       "      <td>L</td>\n",
       "      <td>BUY</td>\n",
       "      <td>15</td>\n",
       "      <td>-0.70</td>\n",
       "      <td>DT</td>\n",
       "    </tr>\n",
       "  </tbody>\n",
       "</table>\n",
       "</div>"
      ],
      "text/plain": [
       "   ticker        data win_loss buy_sell time  percentage type\n",
       "8   PETR4  15/12/2021        L     BUY    15       -0.20   DT\n",
       "29  ABEV3  31/01/2022        L     BUY    15       -0.42   DT\n",
       "34  ITSA4  14/02/2022        L     SELL    5        0.39   DT\n",
       "39  ABEV3  21/02/2022        L     SELL   15       -0.61   DT\n",
       "40  VALE3  21/02/2022        L     BUY    15       -0.70   DT"
      ]
     },
     "execution_count": 522,
     "metadata": {},
     "output_type": "execute_result"
    }
   ],
   "source": [
    "loss.head(5)"
   ]
  },
  {
   "cell_type": "code",
   "execution_count": 523,
   "metadata": {},
   "outputs": [
    {
     "name": "stderr",
     "output_type": "stream",
     "text": [
      "/tmp/ipykernel_12249/2876892252.py:1: SettingWithCopyWarning: \n",
      "A value is trying to be set on a copy of a slice from a DataFrame.\n",
      "Try using .loc[row_indexer,col_indexer] = value instead\n",
      "\n",
      "See the caveats in the documentation: https://pandas.pydata.org/pandas-docs/stable/user_guide/indexing.html#returning-a-view-versus-a-copy\n",
      "  loss.percentage = loss.percentage.apply(lambda x: x * -1 if (x > 0) else x)\n"
     ]
    }
   ],
   "source": [
    "loss.percentage = loss.percentage.apply(lambda x: x * -1 if (x > 0) else x)"
   ]
  },
  {
   "cell_type": "code",
   "execution_count": 524,
   "metadata": {},
   "outputs": [
    {
     "data": {
      "text/html": [
       "<div>\n",
       "<style scoped>\n",
       "    .dataframe tbody tr th:only-of-type {\n",
       "        vertical-align: middle;\n",
       "    }\n",
       "\n",
       "    .dataframe tbody tr th {\n",
       "        vertical-align: top;\n",
       "    }\n",
       "\n",
       "    .dataframe thead th {\n",
       "        text-align: right;\n",
       "    }\n",
       "</style>\n",
       "<table border=\"1\" class=\"dataframe\">\n",
       "  <thead>\n",
       "    <tr style=\"text-align: right;\">\n",
       "      <th></th>\n",
       "      <th>ticker</th>\n",
       "      <th>data</th>\n",
       "      <th>win_loss</th>\n",
       "      <th>buy_sell</th>\n",
       "      <th>time</th>\n",
       "      <th>percentage</th>\n",
       "      <th>type</th>\n",
       "    </tr>\n",
       "  </thead>\n",
       "  <tbody>\n",
       "    <tr>\n",
       "      <th>8</th>\n",
       "      <td>PETR4</td>\n",
       "      <td>15/12/2021</td>\n",
       "      <td>L</td>\n",
       "      <td>BUY</td>\n",
       "      <td>15</td>\n",
       "      <td>-0.20</td>\n",
       "      <td>DT</td>\n",
       "    </tr>\n",
       "    <tr>\n",
       "      <th>29</th>\n",
       "      <td>ABEV3</td>\n",
       "      <td>31/01/2022</td>\n",
       "      <td>L</td>\n",
       "      <td>BUY</td>\n",
       "      <td>15</td>\n",
       "      <td>-0.42</td>\n",
       "      <td>DT</td>\n",
       "    </tr>\n",
       "    <tr>\n",
       "      <th>34</th>\n",
       "      <td>ITSA4</td>\n",
       "      <td>14/02/2022</td>\n",
       "      <td>L</td>\n",
       "      <td>SELL</td>\n",
       "      <td>5</td>\n",
       "      <td>-0.39</td>\n",
       "      <td>DT</td>\n",
       "    </tr>\n",
       "    <tr>\n",
       "      <th>39</th>\n",
       "      <td>ABEV3</td>\n",
       "      <td>21/02/2022</td>\n",
       "      <td>L</td>\n",
       "      <td>SELL</td>\n",
       "      <td>15</td>\n",
       "      <td>-0.61</td>\n",
       "      <td>DT</td>\n",
       "    </tr>\n",
       "    <tr>\n",
       "      <th>40</th>\n",
       "      <td>VALE3</td>\n",
       "      <td>21/02/2022</td>\n",
       "      <td>L</td>\n",
       "      <td>BUY</td>\n",
       "      <td>15</td>\n",
       "      <td>-0.70</td>\n",
       "      <td>DT</td>\n",
       "    </tr>\n",
       "  </tbody>\n",
       "</table>\n",
       "</div>"
      ],
      "text/plain": [
       "   ticker        data win_loss buy_sell time  percentage type\n",
       "8   PETR4  15/12/2021        L     BUY    15       -0.20   DT\n",
       "29  ABEV3  31/01/2022        L     BUY    15       -0.42   DT\n",
       "34  ITSA4  14/02/2022        L     SELL    5       -0.39   DT\n",
       "39  ABEV3  21/02/2022        L     SELL   15       -0.61   DT\n",
       "40  VALE3  21/02/2022        L     BUY    15       -0.70   DT"
      ]
     },
     "execution_count": 524,
     "metadata": {},
     "output_type": "execute_result"
    }
   ],
   "source": [
    "loss.head(5)"
   ]
  },
  {
   "cell_type": "code",
   "execution_count": 525,
   "metadata": {
    "colab": {
     "base_uri": "https://localhost:8080/"
    },
    "id": "JvgiwJAnk_Ln",
    "outputId": "7b88da07-6835-4b40-c53a-c2b57c3ea6b3"
   },
   "outputs": [
    {
     "data": {
      "text/plain": [
       "-0.62"
      ]
     },
     "execution_count": 525,
     "metadata": {},
     "output_type": "execute_result"
    }
   ],
   "source": [
    "round(loss.percentage.mean(), 2)"
   ]
  },
  {
   "cell_type": "code",
   "execution_count": 526,
   "metadata": {
    "colab": {
     "base_uri": "https://localhost:8080/",
     "height": 373
    },
    "id": "4g_6EnjPk_JZ",
    "outputId": "f752c0a1-1010-45b3-dec0-b9d8158552db"
   },
   "outputs": [
    {
     "data": {
      "image/png": "[encoded data removed]",
      "text/plain": [
       "<Figure size 700x600 with 1 Axes>"
      ]
     },
     "metadata": {},
     "output_type": "display_data"
    }
   ],
   "source": [
    "plt.figure(figsize=(7, 6))\n",
    "plt.title(\"PIZZA RELACAO MEDIA DE WIN E LOSS\")\n",
    "\n",
    "colors = sns.color_palette(\"pastel\")[0:3]\n",
    "plt.pie([1.28, 0.62], labels=[\"Wins\", \"Loss\"], colors=colors, autopct=\"%.1f%%\");"
   ]
  },
  {
   "cell_type": "code",
   "execution_count": 527,
   "metadata": {
    "colab": {
     "base_uri": "https://localhost:8080/",
     "height": 373
    },
    "id": "Ljx6KOiMk_HB",
    "outputId": "3e6a9ced-ca08-4b6f-ed7c-1042a62a3ee4"
   },
   "outputs": [
    {
     "data": {
      "image/png": "[encoded data removed]",
      "text/plain": [
       "<Figure size 700x600 with 1 Axes>"
      ]
     },
     "metadata": {},
     "output_type": "display_data"
    }
   ],
   "source": [
    "plt.figure(figsize=(7, 6))\n",
    "plt.title(\"PIZZA RELACAO TOTAL DE WIN E LOSS\")\n",
    "\n",
    "\n",
    "colors = sns.color_palette(\"pastel\")[0:3]\n",
    "plt.pie(\n",
    "    df.win_loss.value_counts(),\n",
    "    labels=[\"Wins\", \"Loss\", \"Neutral\"],\n",
    "    colors=colors,\n",
    "    autopct=\"%.1f%%\",\n",
    ");"
   ]
  },
  {
   "cell_type": "code",
   "execution_count": null,
   "metadata": {
    "id": "_KLsW2o0wbiT"
   },
   "outputs": [],
   "source": []
  },
  {
   "cell_type": "code",
   "execution_count": null,
   "metadata": {
    "id": "aK1iCLFWwbgD"
   },
   "outputs": [],
   "source": []
  },
  {
   "cell_type": "code",
   "execution_count": null,
   "metadata": {
    "id": "pSJwWCInwbdk"
   },
   "outputs": [],
   "source": []
  },
  {
   "cell_type": "code",
   "execution_count": null,
   "metadata": {
    "id": "1hxbho1XwbbZ"
   },
   "outputs": [],
   "source": []
  }
 ],
 "metadata": {
  "accelerator": "TPU",
  "colab": {
   "provenance": []
  },
  "gpuClass": "standard",
  "kernelspec": {
   "display_name": "Python 3",
   "language": "python",
   "name": "python3"
  },
  "language_info": {
   "codemirror_mode": {
    "name": "ipython",
    "version": 3
   },
   "file_extension": ".py",
   "mimetype": "text/x-python",
   "name": "python",
   "nbconvert_exporter": "python",
   "pygments_lexer": "ipython3",
   "version": "3.10.4"
  },
  "vscode": {
   "interpreter": {
    "hash": "3ad933181bd8a04b432d3370b9dc3b0662ad032c4dfaa4e4f1596c548f763858"
   }
  }
 },
 "nbformat": 4,
 "nbformat_minor": 0
}
