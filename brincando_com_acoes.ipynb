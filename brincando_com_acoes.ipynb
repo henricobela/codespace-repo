{
  "nbformat": 4,
  "nbformat_minor": 0,
  "metadata": {
    "colab": {
      "provenance": []
    },
    "kernelspec": {
      "name": "python3",
      "display_name": "Python 3"
    },
    "language_info": {
      "name": "python"
    },
    "accelerator": "TPU",
    "gpuClass": "standard"
  },
  "cells": [
    {
      "cell_type": "code",
      "execution_count": null,
      "metadata": {
        "id": "dIH4LNpYgL2F"
      },
      "outputs": [],
      "source": [
        "import pandas as pd\n",
        "import numpy as np\n",
        "import seaborn as sns\n",
        "import matplotlib.pyplot as plt\n",
        "\n",
        "import re"
      ]
    },
    {
      "cell_type": "code",
      "source": [
        "df = pd.read_csv(\"base.csv\", sep = \",\")"
      ],
      "metadata": {
        "id": "vgFnpYQZhnNi"
      },
      "execution_count": null,
      "outputs": []
    },
    {
      "cell_type": "code",
      "source": [
        "df"
      ],
      "metadata": {
        "colab": {
          "base_uri": "https://localhost:8080/",
          "height": 423
        },
        "id": "8z1lALPDhuxF",
        "outputId": "6253f528-9fae-4657-b8bf-49a755fd624f"
      },
      "execution_count": null,
      "outputs": [
        {
          "output_type": "execute_result",
          "data": {
            "text/plain": [
              "      TICK        DATA W \\ L BUY \\ SELL TEMPO GRAF.  GANHO TIPO\n",
              "0    PETR4  25/11/2021    W        BUY       15 MIN  1,94%   DT\n",
              "1    VALE3  30/11/2021     W       BUY       15 MIN  2,20%   DT\n",
              "2    ITUB4  30/11/2021     W       BUY       15 MIN  0,54%   DT\n",
              "3    ABEV3  30/11/2021     W       BUY       15 MIN  0,86%   DT\n",
              "4    BBDC4  30/11/2021     W       BUY       15 MIN  0,75%   DT\n",
              "..     ...         ...   ...        ...         ...    ...  ...\n",
              "245  ITUB4  22/12/2022     W       SELL      15 MIN  1,30%   DT\n",
              "246  BBAS3  26/12/2022     W       SELL      15 MIN  0,52%   DT\n",
              "247  BBAS3  27/12/2022     W       SELL      15 MIN  2,00%   DT\n",
              "248  ITUB4  27/12/2022     W       SELL      15 MIN  0,93%   DT\n",
              "249  VALE3  27/12/2022     W        BUY      15 MIN  1,34%   DT\n",
              "\n",
              "[250 rows x 7 columns]"
            ],
            "text/html": [
              "\n",
              "  <div id=\"df-cf876f13-7015-4902-bf86-074a2f48f925\">\n",
              "    <div class=\"colab-df-container\">\n",
              "      <div>\n",
              "<style scoped>\n",
              "    .dataframe tbody tr th:only-of-type {\n",
              "        vertical-align: middle;\n",
              "    }\n",
              "\n",
              "    .dataframe tbody tr th {\n",
              "        vertical-align: top;\n",
              "    }\n",
              "\n",
              "    .dataframe thead th {\n",
              "        text-align: right;\n",
              "    }\n",
              "</style>\n",
              "<table border=\"1\" class=\"dataframe\">\n",
              "  <thead>\n",
              "    <tr style=\"text-align: right;\">\n",
              "      <th></th>\n",
              "      <th>TICK</th>\n",
              "      <th>DATA</th>\n",
              "      <th>W \\ L</th>\n",
              "      <th>BUY \\ SELL</th>\n",
              "      <th>TEMPO GRAF.</th>\n",
              "      <th>GANHO</th>\n",
              "      <th>TIPO</th>\n",
              "    </tr>\n",
              "  </thead>\n",
              "  <tbody>\n",
              "    <tr>\n",
              "      <th>0</th>\n",
              "      <td>PETR4</td>\n",
              "      <td>25/11/2021</td>\n",
              "      <td>W</td>\n",
              "      <td>BUY</td>\n",
              "      <td>15 MIN</td>\n",
              "      <td>1,94%</td>\n",
              "      <td>DT</td>\n",
              "    </tr>\n",
              "    <tr>\n",
              "      <th>1</th>\n",
              "      <td>VALE3</td>\n",
              "      <td>30/11/2021</td>\n",
              "      <td>W</td>\n",
              "      <td>BUY</td>\n",
              "      <td>15 MIN</td>\n",
              "      <td>2,20%</td>\n",
              "      <td>DT</td>\n",
              "    </tr>\n",
              "    <tr>\n",
              "      <th>2</th>\n",
              "      <td>ITUB4</td>\n",
              "      <td>30/11/2021</td>\n",
              "      <td>W</td>\n",
              "      <td>BUY</td>\n",
              "      <td>15 MIN</td>\n",
              "      <td>0,54%</td>\n",
              "      <td>DT</td>\n",
              "    </tr>\n",
              "    <tr>\n",
              "      <th>3</th>\n",
              "      <td>ABEV3</td>\n",
              "      <td>30/11/2021</td>\n",
              "      <td>W</td>\n",
              "      <td>BUY</td>\n",
              "      <td>15 MIN</td>\n",
              "      <td>0,86%</td>\n",
              "      <td>DT</td>\n",
              "    </tr>\n",
              "    <tr>\n",
              "      <th>4</th>\n",
              "      <td>BBDC4</td>\n",
              "      <td>30/11/2021</td>\n",
              "      <td>W</td>\n",
              "      <td>BUY</td>\n",
              "      <td>15 MIN</td>\n",
              "      <td>0,75%</td>\n",
              "      <td>DT</td>\n",
              "    </tr>\n",
              "    <tr>\n",
              "      <th>...</th>\n",
              "      <td>...</td>\n",
              "      <td>...</td>\n",
              "      <td>...</td>\n",
              "      <td>...</td>\n",
              "      <td>...</td>\n",
              "      <td>...</td>\n",
              "      <td>...</td>\n",
              "    </tr>\n",
              "    <tr>\n",
              "      <th>245</th>\n",
              "      <td>ITUB4</td>\n",
              "      <td>22/12/2022</td>\n",
              "      <td>W</td>\n",
              "      <td>SELL</td>\n",
              "      <td>15 MIN</td>\n",
              "      <td>1,30%</td>\n",
              "      <td>DT</td>\n",
              "    </tr>\n",
              "    <tr>\n",
              "      <th>246</th>\n",
              "      <td>BBAS3</td>\n",
              "      <td>26/12/2022</td>\n",
              "      <td>W</td>\n",
              "      <td>SELL</td>\n",
              "      <td>15 MIN</td>\n",
              "      <td>0,52%</td>\n",
              "      <td>DT</td>\n",
              "    </tr>\n",
              "    <tr>\n",
              "      <th>247</th>\n",
              "      <td>BBAS3</td>\n",
              "      <td>27/12/2022</td>\n",
              "      <td>W</td>\n",
              "      <td>SELL</td>\n",
              "      <td>15 MIN</td>\n",
              "      <td>2,00%</td>\n",
              "      <td>DT</td>\n",
              "    </tr>\n",
              "    <tr>\n",
              "      <th>248</th>\n",
              "      <td>ITUB4</td>\n",
              "      <td>27/12/2022</td>\n",
              "      <td>W</td>\n",
              "      <td>SELL</td>\n",
              "      <td>15 MIN</td>\n",
              "      <td>0,93%</td>\n",
              "      <td>DT</td>\n",
              "    </tr>\n",
              "    <tr>\n",
              "      <th>249</th>\n",
              "      <td>VALE3</td>\n",
              "      <td>27/12/2022</td>\n",
              "      <td>W</td>\n",
              "      <td>BUY</td>\n",
              "      <td>15 MIN</td>\n",
              "      <td>1,34%</td>\n",
              "      <td>DT</td>\n",
              "    </tr>\n",
              "  </tbody>\n",
              "</table>\n",
              "<p>250 rows × 7 columns</p>\n",
              "</div>\n",
              "      <button class=\"colab-df-convert\" onclick=\"convertToInteractive('df-cf876f13-7015-4902-bf86-074a2f48f925')\"\n",
              "              title=\"Convert this dataframe to an interactive table.\"\n",
              "              style=\"display:none;\">\n",
              "        \n",
              "  <svg xmlns=\"http://www.w3.org/2000/svg\" height=\"24px\"viewBox=\"0 0 24 24\"\n",
              "       width=\"24px\">\n",
              "    <path d=\"M0 0h24v24H0V0z\" fill=\"none\"/>\n",
              "    <path d=\"M18.56 5.44l.94 2.06.94-2.06 2.06-.94-2.06-.94-.94-2.06-.94 2.06-2.06.94zm-11 1L8.5 8.5l.94-2.06 2.06-.94-2.06-.94L8.5 2.5l-.94 2.06-2.06.94zm10 10l.94 2.06.94-2.06 2.06-.94-2.06-.94-.94-2.06-.94 2.06-2.06.94z\"/><path d=\"M17.41 7.96l-1.37-1.37c-.4-.4-.92-.59-1.43-.59-.52 0-1.04.2-1.43.59L10.3 9.45l-7.72 7.72c-.78.78-.78 2.05 0 2.83L4 21.41c.39.39.9.59 1.41.59.51 0 1.02-.2 1.41-.59l7.78-7.78 2.81-2.81c.8-.78.8-2.07 0-2.86zM5.41 20L4 18.59l7.72-7.72 1.47 1.35L5.41 20z\"/>\n",
              "  </svg>\n",
              "      </button>\n",
              "      \n",
              "  <style>\n",
              "    .colab-df-container {\n",
              "      display:flex;\n",
              "      flex-wrap:wrap;\n",
              "      gap: 12px;\n",
              "    }\n",
              "\n",
              "    .colab-df-convert {\n",
              "      background-color: #E8F0FE;\n",
              "      border: none;\n",
              "      border-radius: 50%;\n",
              "      cursor: pointer;\n",
              "      display: none;\n",
              "      fill: #1967D2;\n",
              "      height: 32px;\n",
              "      padding: 0 0 0 0;\n",
              "      width: 32px;\n",
              "    }\n",
              "\n",
              "    .colab-df-convert:hover {\n",
              "      background-color: #E2EBFA;\n",
              "      box-shadow: 0px 1px 2px rgba(60, 64, 67, 0.3), 0px 1px 3px 1px rgba(60, 64, 67, 0.15);\n",
              "      fill: #174EA6;\n",
              "    }\n",
              "\n",
              "    [theme=dark] .colab-df-convert {\n",
              "      background-color: #3B4455;\n",
              "      fill: #D2E3FC;\n",
              "    }\n",
              "\n",
              "    [theme=dark] .colab-df-convert:hover {\n",
              "      background-color: #434B5C;\n",
              "      box-shadow: 0px 1px 3px 1px rgba(0, 0, 0, 0.15);\n",
              "      filter: drop-shadow(0px 1px 2px rgba(0, 0, 0, 0.3));\n",
              "      fill: #FFFFFF;\n",
              "    }\n",
              "  </style>\n",
              "\n",
              "      <script>\n",
              "        const buttonEl =\n",
              "          document.querySelector('#df-cf876f13-7015-4902-bf86-074a2f48f925 button.colab-df-convert');\n",
              "        buttonEl.style.display =\n",
              "          google.colab.kernel.accessAllowed ? 'block' : 'none';\n",
              "\n",
              "        async function convertToInteractive(key) {\n",
              "          const element = document.querySelector('#df-cf876f13-7015-4902-bf86-074a2f48f925');\n",
              "          const dataTable =\n",
              "            await google.colab.kernel.invokeFunction('convertToInteractive',\n",
              "                                                     [key], {});\n",
              "          if (!dataTable) return;\n",
              "\n",
              "          const docLinkHtml = 'Like what you see? Visit the ' +\n",
              "            '<a target=\"_blank\" href=https://colab.research.google.com/notebooks/data_table.ipynb>data table notebook</a>'\n",
              "            + ' to learn more about interactive tables.';\n",
              "          element.innerHTML = '';\n",
              "          dataTable['output_type'] = 'display_data';\n",
              "          await google.colab.output.renderOutput(dataTable, element);\n",
              "          const docLink = document.createElement('div');\n",
              "          docLink.innerHTML = docLinkHtml;\n",
              "          element.appendChild(docLink);\n",
              "        }\n",
              "      </script>\n",
              "    </div>\n",
              "  </div>\n",
              "  "
            ]
          },
          "metadata": {},
          "execution_count": 16
        }
      ]
    },
    {
      "cell_type": "code",
      "source": [
        "df.rename(columns = {\n",
        "    \"TICK\": \"ticker\",\n",
        "    \"DATA\": \"data\",\n",
        "    \"W \\ L\": \"win_loss\",\n",
        "    \"BUY \\ SELL\": \"buy_sell\",\n",
        "    \"TEMPO GRAF.\": \"time\",\n",
        "    \"GANHO\": \"percentage\",\n",
        "    \"TIPO\": \"type\"\n",
        "}, inplace = True)"
      ],
      "metadata": {
        "id": "KdS5XeFChuuc"
      },
      "execution_count": null,
      "outputs": []
    },
    {
      "cell_type": "code",
      "source": [
        "df"
      ],
      "metadata": {
        "colab": {
          "base_uri": "https://localhost:8080/",
          "height": 423
        },
        "id": "qUSXuvtkhur7",
        "outputId": "6b6197e0-081f-44b8-c997-d1877febfd18"
      },
      "execution_count": null,
      "outputs": [
        {
          "output_type": "execute_result",
          "data": {
            "text/plain": [
              "    ticker        data win_loss buy_sell    time percentage type\n",
              "0    PETR4  25/11/2021       W      BUY   15 MIN      1,94%   DT\n",
              "1    VALE3  30/11/2021        W     BUY   15 MIN      2,20%   DT\n",
              "2    ITUB4  30/11/2021        W     BUY   15 MIN      0,54%   DT\n",
              "3    ABEV3  30/11/2021        W     BUY   15 MIN      0,86%   DT\n",
              "4    BBDC4  30/11/2021        W     BUY   15 MIN      0,75%   DT\n",
              "..     ...         ...      ...      ...     ...        ...  ...\n",
              "245  ITUB4  22/12/2022        W     SELL  15 MIN      1,30%   DT\n",
              "246  BBAS3  26/12/2022        W     SELL  15 MIN      0,52%   DT\n",
              "247  BBAS3  27/12/2022        W     SELL  15 MIN      2,00%   DT\n",
              "248  ITUB4  27/12/2022        W     SELL  15 MIN      0,93%   DT\n",
              "249  VALE3  27/12/2022        W      BUY  15 MIN      1,34%   DT\n",
              "\n",
              "[250 rows x 7 columns]"
            ],
            "text/html": [
              "\n",
              "  <div id=\"df-efa8ffc4-4f0b-4a33-947b-426bcf8407fb\">\n",
              "    <div class=\"colab-df-container\">\n",
              "      <div>\n",
              "<style scoped>\n",
              "    .dataframe tbody tr th:only-of-type {\n",
              "        vertical-align: middle;\n",
              "    }\n",
              "\n",
              "    .dataframe tbody tr th {\n",
              "        vertical-align: top;\n",
              "    }\n",
              "\n",
              "    .dataframe thead th {\n",
              "        text-align: right;\n",
              "    }\n",
              "</style>\n",
              "<table border=\"1\" class=\"dataframe\">\n",
              "  <thead>\n",
              "    <tr style=\"text-align: right;\">\n",
              "      <th></th>\n",
              "      <th>ticker</th>\n",
              "      <th>data</th>\n",
              "      <th>win_loss</th>\n",
              "      <th>buy_sell</th>\n",
              "      <th>time</th>\n",
              "      <th>percentage</th>\n",
              "      <th>type</th>\n",
              "    </tr>\n",
              "  </thead>\n",
              "  <tbody>\n",
              "    <tr>\n",
              "      <th>0</th>\n",
              "      <td>PETR4</td>\n",
              "      <td>25/11/2021</td>\n",
              "      <td>W</td>\n",
              "      <td>BUY</td>\n",
              "      <td>15 MIN</td>\n",
              "      <td>1,94%</td>\n",
              "      <td>DT</td>\n",
              "    </tr>\n",
              "    <tr>\n",
              "      <th>1</th>\n",
              "      <td>VALE3</td>\n",
              "      <td>30/11/2021</td>\n",
              "      <td>W</td>\n",
              "      <td>BUY</td>\n",
              "      <td>15 MIN</td>\n",
              "      <td>2,20%</td>\n",
              "      <td>DT</td>\n",
              "    </tr>\n",
              "    <tr>\n",
              "      <th>2</th>\n",
              "      <td>ITUB4</td>\n",
              "      <td>30/11/2021</td>\n",
              "      <td>W</td>\n",
              "      <td>BUY</td>\n",
              "      <td>15 MIN</td>\n",
              "      <td>0,54%</td>\n",
              "      <td>DT</td>\n",
              "    </tr>\n",
              "    <tr>\n",
              "      <th>3</th>\n",
              "      <td>ABEV3</td>\n",
              "      <td>30/11/2021</td>\n",
              "      <td>W</td>\n",
              "      <td>BUY</td>\n",
              "      <td>15 MIN</td>\n",
              "      <td>0,86%</td>\n",
              "      <td>DT</td>\n",
              "    </tr>\n",
              "    <tr>\n",
              "      <th>4</th>\n",
              "      <td>BBDC4</td>\n",
              "      <td>30/11/2021</td>\n",
              "      <td>W</td>\n",
              "      <td>BUY</td>\n",
              "      <td>15 MIN</td>\n",
              "      <td>0,75%</td>\n",
              "      <td>DT</td>\n",
              "    </tr>\n",
              "    <tr>\n",
              "      <th>...</th>\n",
              "      <td>...</td>\n",
              "      <td>...</td>\n",
              "      <td>...</td>\n",
              "      <td>...</td>\n",
              "      <td>...</td>\n",
              "      <td>...</td>\n",
              "      <td>...</td>\n",
              "    </tr>\n",
              "    <tr>\n",
              "      <th>245</th>\n",
              "      <td>ITUB4</td>\n",
              "      <td>22/12/2022</td>\n",
              "      <td>W</td>\n",
              "      <td>SELL</td>\n",
              "      <td>15 MIN</td>\n",
              "      <td>1,30%</td>\n",
              "      <td>DT</td>\n",
              "    </tr>\n",
              "    <tr>\n",
              "      <th>246</th>\n",
              "      <td>BBAS3</td>\n",
              "      <td>26/12/2022</td>\n",
              "      <td>W</td>\n",
              "      <td>SELL</td>\n",
              "      <td>15 MIN</td>\n",
              "      <td>0,52%</td>\n",
              "      <td>DT</td>\n",
              "    </tr>\n",
              "    <tr>\n",
              "      <th>247</th>\n",
              "      <td>BBAS3</td>\n",
              "      <td>27/12/2022</td>\n",
              "      <td>W</td>\n",
              "      <td>SELL</td>\n",
              "      <td>15 MIN</td>\n",
              "      <td>2,00%</td>\n",
              "      <td>DT</td>\n",
              "    </tr>\n",
              "    <tr>\n",
              "      <th>248</th>\n",
              "      <td>ITUB4</td>\n",
              "      <td>27/12/2022</td>\n",
              "      <td>W</td>\n",
              "      <td>SELL</td>\n",
              "      <td>15 MIN</td>\n",
              "      <td>0,93%</td>\n",
              "      <td>DT</td>\n",
              "    </tr>\n",
              "    <tr>\n",
              "      <th>249</th>\n",
              "      <td>VALE3</td>\n",
              "      <td>27/12/2022</td>\n",
              "      <td>W</td>\n",
              "      <td>BUY</td>\n",
              "      <td>15 MIN</td>\n",
              "      <td>1,34%</td>\n",
              "      <td>DT</td>\n",
              "    </tr>\n",
              "  </tbody>\n",
              "</table>\n",
              "<p>250 rows × 7 columns</p>\n",
              "</div>\n",
              "      <button class=\"colab-df-convert\" onclick=\"convertToInteractive('df-efa8ffc4-4f0b-4a33-947b-426bcf8407fb')\"\n",
              "              title=\"Convert this dataframe to an interactive table.\"\n",
              "              style=\"display:none;\">\n",
              "        \n",
              "  <svg xmlns=\"http://www.w3.org/2000/svg\" height=\"24px\"viewBox=\"0 0 24 24\"\n",
              "       width=\"24px\">\n",
              "    <path d=\"M0 0h24v24H0V0z\" fill=\"none\"/>\n",
              "    <path d=\"M18.56 5.44l.94 2.06.94-2.06 2.06-.94-2.06-.94-.94-2.06-.94 2.06-2.06.94zm-11 1L8.5 8.5l.94-2.06 2.06-.94-2.06-.94L8.5 2.5l-.94 2.06-2.06.94zm10 10l.94 2.06.94-2.06 2.06-.94-2.06-.94-.94-2.06-.94 2.06-2.06.94z\"/><path d=\"M17.41 7.96l-1.37-1.37c-.4-.4-.92-.59-1.43-.59-.52 0-1.04.2-1.43.59L10.3 9.45l-7.72 7.72c-.78.78-.78 2.05 0 2.83L4 21.41c.39.39.9.59 1.41.59.51 0 1.02-.2 1.41-.59l7.78-7.78 2.81-2.81c.8-.78.8-2.07 0-2.86zM5.41 20L4 18.59l7.72-7.72 1.47 1.35L5.41 20z\"/>\n",
              "  </svg>\n",
              "      </button>\n",
              "      \n",
              "  <style>\n",
              "    .colab-df-container {\n",
              "      display:flex;\n",
              "      flex-wrap:wrap;\n",
              "      gap: 12px;\n",
              "    }\n",
              "\n",
              "    .colab-df-convert {\n",
              "      background-color: #E8F0FE;\n",
              "      border: none;\n",
              "      border-radius: 50%;\n",
              "      cursor: pointer;\n",
              "      display: none;\n",
              "      fill: #1967D2;\n",
              "      height: 32px;\n",
              "      padding: 0 0 0 0;\n",
              "      width: 32px;\n",
              "    }\n",
              "\n",
              "    .colab-df-convert:hover {\n",
              "      background-color: #E2EBFA;\n",
              "      box-shadow: 0px 1px 2px rgba(60, 64, 67, 0.3), 0px 1px 3px 1px rgba(60, 64, 67, 0.15);\n",
              "      fill: #174EA6;\n",
              "    }\n",
              "\n",
              "    [theme=dark] .colab-df-convert {\n",
              "      background-color: #3B4455;\n",
              "      fill: #D2E3FC;\n",
              "    }\n",
              "\n",
              "    [theme=dark] .colab-df-convert:hover {\n",
              "      background-color: #434B5C;\n",
              "      box-shadow: 0px 1px 3px 1px rgba(0, 0, 0, 0.15);\n",
              "      filter: drop-shadow(0px 1px 2px rgba(0, 0, 0, 0.3));\n",
              "      fill: #FFFFFF;\n",
              "    }\n",
              "  </style>\n",
              "\n",
              "      <script>\n",
              "        const buttonEl =\n",
              "          document.querySelector('#df-efa8ffc4-4f0b-4a33-947b-426bcf8407fb button.colab-df-convert');\n",
              "        buttonEl.style.display =\n",
              "          google.colab.kernel.accessAllowed ? 'block' : 'none';\n",
              "\n",
              "        async function convertToInteractive(key) {\n",
              "          const element = document.querySelector('#df-efa8ffc4-4f0b-4a33-947b-426bcf8407fb');\n",
              "          const dataTable =\n",
              "            await google.colab.kernel.invokeFunction('convertToInteractive',\n",
              "                                                     [key], {});\n",
              "          if (!dataTable) return;\n",
              "\n",
              "          const docLinkHtml = 'Like what you see? Visit the ' +\n",
              "            '<a target=\"_blank\" href=https://colab.research.google.com/notebooks/data_table.ipynb>data table notebook</a>'\n",
              "            + ' to learn more about interactive tables.';\n",
              "          element.innerHTML = '';\n",
              "          dataTable['output_type'] = 'display_data';\n",
              "          await google.colab.output.renderOutput(dataTable, element);\n",
              "          const docLink = document.createElement('div');\n",
              "          docLink.innerHTML = docLinkHtml;\n",
              "          element.appendChild(docLink);\n",
              "        }\n",
              "      </script>\n",
              "    </div>\n",
              "  </div>\n",
              "  "
            ]
          },
          "metadata": {},
          "execution_count": 18
        }
      ]
    },
    {
      "cell_type": "code",
      "source": [
        "text = \"15 MIN\"\n",
        "new_text = re.sub(\"\\D\", \"\", text)\n",
        "print(new_text)"
      ],
      "metadata": {
        "colab": {
          "base_uri": "https://localhost:8080/"
        },
        "id": "ul5oYqqvhupi",
        "outputId": "ec84069f-5e0e-41b8-ed10-c425368f8389"
      },
      "execution_count": null,
      "outputs": [
        {
          "output_type": "stream",
          "name": "stdout",
          "text": [
            "15\n"
          ]
        }
      ]
    },
    {
      "cell_type": "code",
      "source": [
        "df.time.unique()"
      ],
      "metadata": {
        "colab": {
          "base_uri": "https://localhost:8080/"
        },
        "id": "PjNR4dQwhunC",
        "outputId": "bd246025-f4dd-4a92-9ab6-c4da03849cf1"
      },
      "execution_count": null,
      "outputs": [
        {
          "output_type": "execute_result",
          "data": {
            "text/plain": [
              "array(['15 MIN', 'SEMANAL', '5 MIN'], dtype=object)"
            ]
          },
          "metadata": {},
          "execution_count": 20
        }
      ]
    },
    {
      "cell_type": "code",
      "source": [
        "df.time = df.time.apply(lambda x: 10080 if x == \"SEMANAL\" else re.sub(\"\\D\", \"\", x))"
      ],
      "metadata": {
        "id": "7oFlQozAhukn"
      },
      "execution_count": null,
      "outputs": []
    },
    {
      "cell_type": "code",
      "source": [
        "df.time.unique()"
      ],
      "metadata": {
        "colab": {
          "base_uri": "https://localhost:8080/"
        },
        "id": "N7vLyM2Xhuii",
        "outputId": "1e5ee7ae-c8b8-4d04-b3a1-fd4822e40833"
      },
      "execution_count": null,
      "outputs": [
        {
          "output_type": "execute_result",
          "data": {
            "text/plain": [
              "array(['15', 10080, '5'], dtype=object)"
            ]
          },
          "metadata": {},
          "execution_count": 22
        }
      ]
    },
    {
      "cell_type": "code",
      "source": [
        "df.win_loss = df.win_loss.apply(lambda x: re.sub(\"\\s\", \"\", x))"
      ],
      "metadata": {
        "id": "m2TKY84Zhugg"
      },
      "execution_count": null,
      "outputs": []
    },
    {
      "cell_type": "code",
      "source": [
        "plt.figure(figsize = (8,6))\n",
        "plt.title(\"GRAFICO DE CONTAGEM DE WIN LOSS\", fontsize = 15)\n",
        "\n",
        "ax = sns.countplot(data = df, x = \"win_loss\")\n",
        "\n",
        "plt.xlabel(xlabel = \"Win \\ Loss \\ Neutral\")\n",
        "plt.ylabel(ylabel = \"Contagem\")\n",
        "\n",
        "for patch in ax.patches:\n",
        "  y_value = patch.get_height()\n",
        "  x_value = patch.get_x() + patch.get_width() / 2\n",
        "  space = 1\n",
        "  label = format(y_value)\n",
        "  ax.annotate(label, \n",
        "              (x_value, y_value), \n",
        "              xytext = (0, space), \n",
        "              textcoords = \"offset points\", \n",
        "              ha = \"center\", \n",
        "              va = \"bottom\")\n",
        "\n",
        "plt.xticks(ticks = [0,1,2], labels = [\"Win\", \"Loss\", \"Neutral\"]);"
      ],
      "metadata": {
        "colab": {
          "base_uri": "https://localhost:8080/",
          "height": 406
        },
        "id": "216Jtdq5hueA",
        "outputId": "2acbd49e-eb7d-46bc-84d3-905a785cde87"
      },
      "execution_count": null,
      "outputs": [
        {
          "output_type": "display_data",
          "data": {
            "text/plain": [
              "<Figure size 576x432 with 1 Axes>"
            ],
            "image/png": "[encoded data removed]"
          },
          "metadata": {
            "needs_background": "light"
          }
        }
      ]
    },
    {
      "cell_type": "code",
      "source": [
        "petrobras = df[df.ticker == \"PETR4\"].ticker.value_counts().sum()\n",
        "bradesco = df[df.ticker == \"BBDC4\"].ticker.value_counts().sum()\n",
        "brasil_bolsa_balcao = df[df.ticker == \"B3SA3\"].ticker.value_counts().sum()\n",
        "itau = df[df.ticker == \"ITUB4\"].ticker.value_counts().sum()\n",
        "ambev = df[df.ticker == \"ABEV3\"].ticker.value_counts().sum()\n",
        "banco_do_brasil = df[df.ticker == \"BBAS3\"].ticker.value_counts().sum()\n",
        "vale = df[df.ticker == \"VALE3\"].ticker.value_counts().sum()\n",
        "itausa = df[df.ticker == \"ITSA4\"].ticker.value_counts().sum()\n",
        "\n",
        "\n",
        "\n",
        "plt.figure(figsize = (15,8))\n",
        "plt.title(\"GRAFICO DE CONTAGENS DE EMPRESAS E ACOES\", fontsize = 20)\n",
        "\n",
        "\n",
        "ax = sns.countplot(data = df, x = \"ticker\", hue = df.win_loss,order = df.ticker.value_counts().index)\n",
        "\n",
        "for patch in ax.patches:\n",
        "  y_value = patch.get_height()\n",
        "  x_value = patch.get_x() + patch.get_width() / 2\n",
        "  space = 1\n",
        "  label = format(y_value)\n",
        "  ax.annotate(label, \n",
        "              (x_value, y_value), \n",
        "              xytext = (0, space), \n",
        "              textcoords = \"offset points\", \n",
        "              ha = \"center\", \n",
        "              va = \"bottom\")\n",
        "\n",
        "plt.xlabel(xlabel = \"ACOES / EMPRESAS\", fontsize = 15)\n",
        "plt.ylabel(ylabel = \"CONTAGENS\", fontsize = 15)\n",
        "\n",
        "plt.xticks(ticks = [0,1,2,3,4,5,6,7], labels = \n",
        "           [f\"PETR4\\nPETROBRAS\\nTOTAL: {petrobras}\", \n",
        "            f\"BBDC4\\nBRADESCO\\nTOTAL: {bradesco}\", \n",
        "            f\"B3SA3\\nBRASIL BOLSA BALCAO\\nTOTAL: {brasil_bolsa_balcao}\", \n",
        "            f\"ITUB4\\nITAU\\nTOTAL: {itau}\", \n",
        "            f\"ABEV3\\nAMBEV\\nTOTAL: {ambev}\", \n",
        "            f\"BBAS3\\nBANCO DO BRASIL\\nTOTAL: {banco_do_brasil}\",\n",
        "            f\"VALE3\\nVALE\\nTOTAL: {vale}\", \n",
        "            f\"ITSA4\\nITAUSA\\nTOTAL: {itausa}\"]);"
      ],
      "metadata": {
        "colab": {
          "base_uri": "https://localhost:8080/",
          "height": 546
        },
        "id": "VwwW3YXdk_aB",
        "outputId": "1589f9c3-263d-43c2-e6e7-46adc17ddf2a"
      },
      "execution_count": null,
      "outputs": [
        {
          "output_type": "display_data",
          "data": {
            "text/plain": [
              "<Figure size 1080x576 with 1 Axes>"
            ],
            "image/png": "[encoded data removed]"
          },
          "metadata": {
            "needs_background": "light"
          }
        }
      ]
    },
    {
      "cell_type": "code",
      "source": [
        "df[df.ticker == \"PETR4\"].ticker.value_counts().sum()"
      ],
      "metadata": {
        "colab": {
          "base_uri": "https://localhost:8080/"
        },
        "id": "nZ8UU63wz1-M",
        "outputId": "7a3a3975-a16d-4272-accf-5cec46677625"
      },
      "execution_count": null,
      "outputs": [
        {
          "output_type": "execute_result",
          "data": {
            "text/plain": [
              "37"
            ]
          },
          "metadata": {},
          "execution_count": 53
        }
      ]
    },
    {
      "cell_type": "code",
      "source": [
        "df.percentage = df.percentage.apply(lambda x: re.sub(\",\", \".\", x))"
      ],
      "metadata": {
        "id": "gu0-6oG2rs22"
      },
      "execution_count": null,
      "outputs": []
    },
    {
      "cell_type": "code",
      "source": [
        "df.percentage = df.percentage.apply(lambda x: re.sub(\"%\", \"\", x))"
      ],
      "metadata": {
        "id": "xrSt6lTGrs0e"
      },
      "execution_count": null,
      "outputs": []
    },
    {
      "cell_type": "code",
      "source": [
        "df"
      ],
      "metadata": {
        "colab": {
          "base_uri": "https://localhost:8080/",
          "height": 423
        },
        "id": "1p7G7QxLrsyO",
        "outputId": "31460cf4-30ad-4b92-c343-de3a9aa95117"
      },
      "execution_count": null,
      "outputs": [
        {
          "output_type": "execute_result",
          "data": {
            "text/plain": [
              "    ticker        data win_loss buy_sell time percentage type\n",
              "0    PETR4  25/11/2021        W     BUY    15       1.94   DT\n",
              "1    VALE3  30/11/2021        W     BUY    15       2.20   DT\n",
              "2    ITUB4  30/11/2021        W     BUY    15       0.54   DT\n",
              "3    ABEV3  30/11/2021        W     BUY    15       0.86   DT\n",
              "4    BBDC4  30/11/2021        W     BUY    15       0.75   DT\n",
              "..     ...         ...      ...      ...  ...        ...  ...\n",
              "245  ITUB4  22/12/2022        W     SELL   15       1.30   DT\n",
              "246  BBAS3  26/12/2022        W     SELL   15       0.52   DT\n",
              "247  BBAS3  27/12/2022        W     SELL   15       2.00   DT\n",
              "248  ITUB4  27/12/2022        W     SELL   15       0.93   DT\n",
              "249  VALE3  27/12/2022        W      BUY   15       1.34   DT\n",
              "\n",
              "[250 rows x 7 columns]"
            ],
            "text/html": [
              "\n",
              "  <div id=\"df-6688113d-85ef-4461-805c-cb27e5a68792\">\n",
              "    <div class=\"colab-df-container\">\n",
              "      <div>\n",
              "<style scoped>\n",
              "    .dataframe tbody tr th:only-of-type {\n",
              "        vertical-align: middle;\n",
              "    }\n",
              "\n",
              "    .dataframe tbody tr th {\n",
              "        vertical-align: top;\n",
              "    }\n",
              "\n",
              "    .dataframe thead th {\n",
              "        text-align: right;\n",
              "    }\n",
              "</style>\n",
              "<table border=\"1\" class=\"dataframe\">\n",
              "  <thead>\n",
              "    <tr style=\"text-align: right;\">\n",
              "      <th></th>\n",
              "      <th>ticker</th>\n",
              "      <th>data</th>\n",
              "      <th>win_loss</th>\n",
              "      <th>buy_sell</th>\n",
              "      <th>time</th>\n",
              "      <th>percentage</th>\n",
              "      <th>type</th>\n",
              "    </tr>\n",
              "  </thead>\n",
              "  <tbody>\n",
              "    <tr>\n",
              "      <th>0</th>\n",
              "      <td>PETR4</td>\n",
              "      <td>25/11/2021</td>\n",
              "      <td>W</td>\n",
              "      <td>BUY</td>\n",
              "      <td>15</td>\n",
              "      <td>1.94</td>\n",
              "      <td>DT</td>\n",
              "    </tr>\n",
              "    <tr>\n",
              "      <th>1</th>\n",
              "      <td>VALE3</td>\n",
              "      <td>30/11/2021</td>\n",
              "      <td>W</td>\n",
              "      <td>BUY</td>\n",
              "      <td>15</td>\n",
              "      <td>2.20</td>\n",
              "      <td>DT</td>\n",
              "    </tr>\n",
              "    <tr>\n",
              "      <th>2</th>\n",
              "      <td>ITUB4</td>\n",
              "      <td>30/11/2021</td>\n",
              "      <td>W</td>\n",
              "      <td>BUY</td>\n",
              "      <td>15</td>\n",
              "      <td>0.54</td>\n",
              "      <td>DT</td>\n",
              "    </tr>\n",
              "    <tr>\n",
              "      <th>3</th>\n",
              "      <td>ABEV3</td>\n",
              "      <td>30/11/2021</td>\n",
              "      <td>W</td>\n",
              "      <td>BUY</td>\n",
              "      <td>15</td>\n",
              "      <td>0.86</td>\n",
              "      <td>DT</td>\n",
              "    </tr>\n",
              "    <tr>\n",
              "      <th>4</th>\n",
              "      <td>BBDC4</td>\n",
              "      <td>30/11/2021</td>\n",
              "      <td>W</td>\n",
              "      <td>BUY</td>\n",
              "      <td>15</td>\n",
              "      <td>0.75</td>\n",
              "      <td>DT</td>\n",
              "    </tr>\n",
              "    <tr>\n",
              "      <th>...</th>\n",
              "      <td>...</td>\n",
              "      <td>...</td>\n",
              "      <td>...</td>\n",
              "      <td>...</td>\n",
              "      <td>...</td>\n",
              "      <td>...</td>\n",
              "      <td>...</td>\n",
              "    </tr>\n",
              "    <tr>\n",
              "      <th>245</th>\n",
              "      <td>ITUB4</td>\n",
              "      <td>22/12/2022</td>\n",
              "      <td>W</td>\n",
              "      <td>SELL</td>\n",
              "      <td>15</td>\n",
              "      <td>1.30</td>\n",
              "      <td>DT</td>\n",
              "    </tr>\n",
              "    <tr>\n",
              "      <th>246</th>\n",
              "      <td>BBAS3</td>\n",
              "      <td>26/12/2022</td>\n",
              "      <td>W</td>\n",
              "      <td>SELL</td>\n",
              "      <td>15</td>\n",
              "      <td>0.52</td>\n",
              "      <td>DT</td>\n",
              "    </tr>\n",
              "    <tr>\n",
              "      <th>247</th>\n",
              "      <td>BBAS3</td>\n",
              "      <td>27/12/2022</td>\n",
              "      <td>W</td>\n",
              "      <td>SELL</td>\n",
              "      <td>15</td>\n",
              "      <td>2.00</td>\n",
              "      <td>DT</td>\n",
              "    </tr>\n",
              "    <tr>\n",
              "      <th>248</th>\n",
              "      <td>ITUB4</td>\n",
              "      <td>27/12/2022</td>\n",
              "      <td>W</td>\n",
              "      <td>SELL</td>\n",
              "      <td>15</td>\n",
              "      <td>0.93</td>\n",
              "      <td>DT</td>\n",
              "    </tr>\n",
              "    <tr>\n",
              "      <th>249</th>\n",
              "      <td>VALE3</td>\n",
              "      <td>27/12/2022</td>\n",
              "      <td>W</td>\n",
              "      <td>BUY</td>\n",
              "      <td>15</td>\n",
              "      <td>1.34</td>\n",
              "      <td>DT</td>\n",
              "    </tr>\n",
              "  </tbody>\n",
              "</table>\n",
              "<p>250 rows × 7 columns</p>\n",
              "</div>\n",
              "      <button class=\"colab-df-convert\" onclick=\"convertToInteractive('df-6688113d-85ef-4461-805c-cb27e5a68792')\"\n",
              "              title=\"Convert this dataframe to an interactive table.\"\n",
              "              style=\"display:none;\">\n",
              "        \n",
              "  <svg xmlns=\"http://www.w3.org/2000/svg\" height=\"24px\"viewBox=\"0 0 24 24\"\n",
              "       width=\"24px\">\n",
              "    <path d=\"M0 0h24v24H0V0z\" fill=\"none\"/>\n",
              "    <path d=\"M18.56 5.44l.94 2.06.94-2.06 2.06-.94-2.06-.94-.94-2.06-.94 2.06-2.06.94zm-11 1L8.5 8.5l.94-2.06 2.06-.94-2.06-.94L8.5 2.5l-.94 2.06-2.06.94zm10 10l.94 2.06.94-2.06 2.06-.94-2.06-.94-.94-2.06-.94 2.06-2.06.94z\"/><path d=\"M17.41 7.96l-1.37-1.37c-.4-.4-.92-.59-1.43-.59-.52 0-1.04.2-1.43.59L10.3 9.45l-7.72 7.72c-.78.78-.78 2.05 0 2.83L4 21.41c.39.39.9.59 1.41.59.51 0 1.02-.2 1.41-.59l7.78-7.78 2.81-2.81c.8-.78.8-2.07 0-2.86zM5.41 20L4 18.59l7.72-7.72 1.47 1.35L5.41 20z\"/>\n",
              "  </svg>\n",
              "      </button>\n",
              "      \n",
              "  <style>\n",
              "    .colab-df-container {\n",
              "      display:flex;\n",
              "      flex-wrap:wrap;\n",
              "      gap: 12px;\n",
              "    }\n",
              "\n",
              "    .colab-df-convert {\n",
              "      background-color: #E8F0FE;\n",
              "      border: none;\n",
              "      border-radius: 50%;\n",
              "      cursor: pointer;\n",
              "      display: none;\n",
              "      fill: #1967D2;\n",
              "      height: 32px;\n",
              "      padding: 0 0 0 0;\n",
              "      width: 32px;\n",
              "    }\n",
              "\n",
              "    .colab-df-convert:hover {\n",
              "      background-color: #E2EBFA;\n",
              "      box-shadow: 0px 1px 2px rgba(60, 64, 67, 0.3), 0px 1px 3px 1px rgba(60, 64, 67, 0.15);\n",
              "      fill: #174EA6;\n",
              "    }\n",
              "\n",
              "    [theme=dark] .colab-df-convert {\n",
              "      background-color: #3B4455;\n",
              "      fill: #D2E3FC;\n",
              "    }\n",
              "\n",
              "    [theme=dark] .colab-df-convert:hover {\n",
              "      background-color: #434B5C;\n",
              "      box-shadow: 0px 1px 3px 1px rgba(0, 0, 0, 0.15);\n",
              "      filter: drop-shadow(0px 1px 2px rgba(0, 0, 0, 0.3));\n",
              "      fill: #FFFFFF;\n",
              "    }\n",
              "  </style>\n",
              "\n",
              "      <script>\n",
              "        const buttonEl =\n",
              "          document.querySelector('#df-6688113d-85ef-4461-805c-cb27e5a68792 button.colab-df-convert');\n",
              "        buttonEl.style.display =\n",
              "          google.colab.kernel.accessAllowed ? 'block' : 'none';\n",
              "\n",
              "        async function convertToInteractive(key) {\n",
              "          const element = document.querySelector('#df-6688113d-85ef-4461-805c-cb27e5a68792');\n",
              "          const dataTable =\n",
              "            await google.colab.kernel.invokeFunction('convertToInteractive',\n",
              "                                                     [key], {});\n",
              "          if (!dataTable) return;\n",
              "\n",
              "          const docLinkHtml = 'Like what you see? Visit the ' +\n",
              "            '<a target=\"_blank\" href=https://colab.research.google.com/notebooks/data_table.ipynb>data table notebook</a>'\n",
              "            + ' to learn more about interactive tables.';\n",
              "          element.innerHTML = '';\n",
              "          dataTable['output_type'] = 'display_data';\n",
              "          await google.colab.output.renderOutput(dataTable, element);\n",
              "          const docLink = document.createElement('div');\n",
              "          docLink.innerHTML = docLinkHtml;\n",
              "          element.appendChild(docLink);\n",
              "        }\n",
              "      </script>\n",
              "    </div>\n",
              "  </div>\n",
              "  "
            ]
          },
          "metadata": {},
          "execution_count": 28
        }
      ]
    },
    {
      "cell_type": "code",
      "source": [
        "df.info()"
      ],
      "metadata": {
        "colab": {
          "base_uri": "https://localhost:8080/"
        },
        "id": "IO1_2-HbsHpH",
        "outputId": "201fb208-61f8-41d3-919c-3938b7abde5b"
      },
      "execution_count": null,
      "outputs": [
        {
          "output_type": "stream",
          "name": "stdout",
          "text": [
            "<class 'pandas.core.frame.DataFrame'>\n",
            "RangeIndex: 250 entries, 0 to 249\n",
            "Data columns (total 7 columns):\n",
            " #   Column      Non-Null Count  Dtype \n",
            "---  ------      --------------  ----- \n",
            " 0   ticker      248 non-null    object\n",
            " 1   data        250 non-null    object\n",
            " 2   win_loss    250 non-null    object\n",
            " 3   buy_sell    250 non-null    object\n",
            " 4   time        250 non-null    object\n",
            " 5   percentage  250 non-null    object\n",
            " 6   type        250 non-null    object\n",
            "dtypes: object(7)\n",
            "memory usage: 13.8+ KB\n"
          ]
        }
      ]
    },
    {
      "cell_type": "code",
      "source": [
        "df.percentage = df.percentage.astype(float)"
      ],
      "metadata": {
        "id": "GwySZ_JVsKvA"
      },
      "execution_count": null,
      "outputs": []
    },
    {
      "cell_type": "code",
      "source": [
        "df.info()"
      ],
      "metadata": {
        "colab": {
          "base_uri": "https://localhost:8080/"
        },
        "id": "d5w5c-YpsSqY",
        "outputId": "29ef040f-c73d-49be-8f47-be4824436f6f"
      },
      "execution_count": null,
      "outputs": [
        {
          "output_type": "stream",
          "name": "stdout",
          "text": [
            "<class 'pandas.core.frame.DataFrame'>\n",
            "RangeIndex: 250 entries, 0 to 249\n",
            "Data columns (total 7 columns):\n",
            " #   Column      Non-Null Count  Dtype  \n",
            "---  ------      --------------  -----  \n",
            " 0   ticker      248 non-null    object \n",
            " 1   data        250 non-null    object \n",
            " 2   win_loss    250 non-null    object \n",
            " 3   buy_sell    250 non-null    object \n",
            " 4   time        250 non-null    object \n",
            " 5   percentage  250 non-null    float64\n",
            " 6   type        250 non-null    object \n",
            "dtypes: float64(1), object(6)\n",
            "memory usage: 13.8+ KB\n"
          ]
        }
      ]
    },
    {
      "cell_type": "code",
      "source": [
        "wins = df[df.win_loss == \"W\"]"
      ],
      "metadata": {
        "id": "16cwzQljk_Xl"
      },
      "execution_count": null,
      "outputs": []
    },
    {
      "cell_type": "code",
      "source": [
        "wins"
      ],
      "metadata": {
        "colab": {
          "base_uri": "https://localhost:8080/",
          "height": 423
        },
        "id": "HW1srs8Rk_VA",
        "outputId": "76ccfae3-2894-4502-ad3f-a875c506f67c"
      },
      "execution_count": null,
      "outputs": [
        {
          "output_type": "execute_result",
          "data": {
            "text/plain": [
              "    ticker        data win_loss buy_sell time  percentage type\n",
              "0    PETR4  25/11/2021        W     BUY    15        1.94   DT\n",
              "1    VALE3  30/11/2021        W     BUY    15        2.20   DT\n",
              "2    ITUB4  30/11/2021        W     BUY    15        0.54   DT\n",
              "3    ABEV3  30/11/2021        W     BUY    15        0.86   DT\n",
              "4    BBDC4  30/11/2021        W     BUY    15        0.75   DT\n",
              "..     ...         ...      ...      ...  ...         ...  ...\n",
              "245  ITUB4  22/12/2022        W     SELL   15        1.30   DT\n",
              "246  BBAS3  26/12/2022        W     SELL   15        0.52   DT\n",
              "247  BBAS3  27/12/2022        W     SELL   15        2.00   DT\n",
              "248  ITUB4  27/12/2022        W     SELL   15        0.93   DT\n",
              "249  VALE3  27/12/2022        W      BUY   15        1.34   DT\n",
              "\n",
              "[208 rows x 7 columns]"
            ],
            "text/html": [
              "\n",
              "  <div id=\"df-a54cc8f4-7275-450c-a2be-2ed7cb5312a8\">\n",
              "    <div class=\"colab-df-container\">\n",
              "      <div>\n",
              "<style scoped>\n",
              "    .dataframe tbody tr th:only-of-type {\n",
              "        vertical-align: middle;\n",
              "    }\n",
              "\n",
              "    .dataframe tbody tr th {\n",
              "        vertical-align: top;\n",
              "    }\n",
              "\n",
              "    .dataframe thead th {\n",
              "        text-align: right;\n",
              "    }\n",
              "</style>\n",
              "<table border=\"1\" class=\"dataframe\">\n",
              "  <thead>\n",
              "    <tr style=\"text-align: right;\">\n",
              "      <th></th>\n",
              "      <th>ticker</th>\n",
              "      <th>data</th>\n",
              "      <th>win_loss</th>\n",
              "      <th>buy_sell</th>\n",
              "      <th>time</th>\n",
              "      <th>percentage</th>\n",
              "      <th>type</th>\n",
              "    </tr>\n",
              "  </thead>\n",
              "  <tbody>\n",
              "    <tr>\n",
              "      <th>0</th>\n",
              "      <td>PETR4</td>\n",
              "      <td>25/11/2021</td>\n",
              "      <td>W</td>\n",
              "      <td>BUY</td>\n",
              "      <td>15</td>\n",
              "      <td>1.94</td>\n",
              "      <td>DT</td>\n",
              "    </tr>\n",
              "    <tr>\n",
              "      <th>1</th>\n",
              "      <td>VALE3</td>\n",
              "      <td>30/11/2021</td>\n",
              "      <td>W</td>\n",
              "      <td>BUY</td>\n",
              "      <td>15</td>\n",
              "      <td>2.20</td>\n",
              "      <td>DT</td>\n",
              "    </tr>\n",
              "    <tr>\n",
              "      <th>2</th>\n",
              "      <td>ITUB4</td>\n",
              "      <td>30/11/2021</td>\n",
              "      <td>W</td>\n",
              "      <td>BUY</td>\n",
              "      <td>15</td>\n",
              "      <td>0.54</td>\n",
              "      <td>DT</td>\n",
              "    </tr>\n",
              "    <tr>\n",
              "      <th>3</th>\n",
              "      <td>ABEV3</td>\n",
              "      <td>30/11/2021</td>\n",
              "      <td>W</td>\n",
              "      <td>BUY</td>\n",
              "      <td>15</td>\n",
              "      <td>0.86</td>\n",
              "      <td>DT</td>\n",
              "    </tr>\n",
              "    <tr>\n",
              "      <th>4</th>\n",
              "      <td>BBDC4</td>\n",
              "      <td>30/11/2021</td>\n",
              "      <td>W</td>\n",
              "      <td>BUY</td>\n",
              "      <td>15</td>\n",
              "      <td>0.75</td>\n",
              "      <td>DT</td>\n",
              "    </tr>\n",
              "    <tr>\n",
              "      <th>...</th>\n",
              "      <td>...</td>\n",
              "      <td>...</td>\n",
              "      <td>...</td>\n",
              "      <td>...</td>\n",
              "      <td>...</td>\n",
              "      <td>...</td>\n",
              "      <td>...</td>\n",
              "    </tr>\n",
              "    <tr>\n",
              "      <th>245</th>\n",
              "      <td>ITUB4</td>\n",
              "      <td>22/12/2022</td>\n",
              "      <td>W</td>\n",
              "      <td>SELL</td>\n",
              "      <td>15</td>\n",
              "      <td>1.30</td>\n",
              "      <td>DT</td>\n",
              "    </tr>\n",
              "    <tr>\n",
              "      <th>246</th>\n",
              "      <td>BBAS3</td>\n",
              "      <td>26/12/2022</td>\n",
              "      <td>W</td>\n",
              "      <td>SELL</td>\n",
              "      <td>15</td>\n",
              "      <td>0.52</td>\n",
              "      <td>DT</td>\n",
              "    </tr>\n",
              "    <tr>\n",
              "      <th>247</th>\n",
              "      <td>BBAS3</td>\n",
              "      <td>27/12/2022</td>\n",
              "      <td>W</td>\n",
              "      <td>SELL</td>\n",
              "      <td>15</td>\n",
              "      <td>2.00</td>\n",
              "      <td>DT</td>\n",
              "    </tr>\n",
              "    <tr>\n",
              "      <th>248</th>\n",
              "      <td>ITUB4</td>\n",
              "      <td>27/12/2022</td>\n",
              "      <td>W</td>\n",
              "      <td>SELL</td>\n",
              "      <td>15</td>\n",
              "      <td>0.93</td>\n",
              "      <td>DT</td>\n",
              "    </tr>\n",
              "    <tr>\n",
              "      <th>249</th>\n",
              "      <td>VALE3</td>\n",
              "      <td>27/12/2022</td>\n",
              "      <td>W</td>\n",
              "      <td>BUY</td>\n",
              "      <td>15</td>\n",
              "      <td>1.34</td>\n",
              "      <td>DT</td>\n",
              "    </tr>\n",
              "  </tbody>\n",
              "</table>\n",
              "<p>208 rows × 7 columns</p>\n",
              "</div>\n",
              "      <button class=\"colab-df-convert\" onclick=\"convertToInteractive('df-a54cc8f4-7275-450c-a2be-2ed7cb5312a8')\"\n",
              "              title=\"Convert this dataframe to an interactive table.\"\n",
              "              style=\"display:none;\">\n",
              "        \n",
              "  <svg xmlns=\"http://www.w3.org/2000/svg\" height=\"24px\"viewBox=\"0 0 24 24\"\n",
              "       width=\"24px\">\n",
              "    <path d=\"M0 0h24v24H0V0z\" fill=\"none\"/>\n",
              "    <path d=\"M18.56 5.44l.94 2.06.94-2.06 2.06-.94-2.06-.94-.94-2.06-.94 2.06-2.06.94zm-11 1L8.5 8.5l.94-2.06 2.06-.94-2.06-.94L8.5 2.5l-.94 2.06-2.06.94zm10 10l.94 2.06.94-2.06 2.06-.94-2.06-.94-.94-2.06-.94 2.06-2.06.94z\"/><path d=\"M17.41 7.96l-1.37-1.37c-.4-.4-.92-.59-1.43-.59-.52 0-1.04.2-1.43.59L10.3 9.45l-7.72 7.72c-.78.78-.78 2.05 0 2.83L4 21.41c.39.39.9.59 1.41.59.51 0 1.02-.2 1.41-.59l7.78-7.78 2.81-2.81c.8-.78.8-2.07 0-2.86zM5.41 20L4 18.59l7.72-7.72 1.47 1.35L5.41 20z\"/>\n",
              "  </svg>\n",
              "      </button>\n",
              "      \n",
              "  <style>\n",
              "    .colab-df-container {\n",
              "      display:flex;\n",
              "      flex-wrap:wrap;\n",
              "      gap: 12px;\n",
              "    }\n",
              "\n",
              "    .colab-df-convert {\n",
              "      background-color: #E8F0FE;\n",
              "      border: none;\n",
              "      border-radius: 50%;\n",
              "      cursor: pointer;\n",
              "      display: none;\n",
              "      fill: #1967D2;\n",
              "      height: 32px;\n",
              "      padding: 0 0 0 0;\n",
              "      width: 32px;\n",
              "    }\n",
              "\n",
              "    .colab-df-convert:hover {\n",
              "      background-color: #E2EBFA;\n",
              "      box-shadow: 0px 1px 2px rgba(60, 64, 67, 0.3), 0px 1px 3px 1px rgba(60, 64, 67, 0.15);\n",
              "      fill: #174EA6;\n",
              "    }\n",
              "\n",
              "    [theme=dark] .colab-df-convert {\n",
              "      background-color: #3B4455;\n",
              "      fill: #D2E3FC;\n",
              "    }\n",
              "\n",
              "    [theme=dark] .colab-df-convert:hover {\n",
              "      background-color: #434B5C;\n",
              "      box-shadow: 0px 1px 3px 1px rgba(0, 0, 0, 0.15);\n",
              "      filter: drop-shadow(0px 1px 2px rgba(0, 0, 0, 0.3));\n",
              "      fill: #FFFFFF;\n",
              "    }\n",
              "  </style>\n",
              "\n",
              "      <script>\n",
              "        const buttonEl =\n",
              "          document.querySelector('#df-a54cc8f4-7275-450c-a2be-2ed7cb5312a8 button.colab-df-convert');\n",
              "        buttonEl.style.display =\n",
              "          google.colab.kernel.accessAllowed ? 'block' : 'none';\n",
              "\n",
              "        async function convertToInteractive(key) {\n",
              "          const element = document.querySelector('#df-a54cc8f4-7275-450c-a2be-2ed7cb5312a8');\n",
              "          const dataTable =\n",
              "            await google.colab.kernel.invokeFunction('convertToInteractive',\n",
              "                                                     [key], {});\n",
              "          if (!dataTable) return;\n",
              "\n",
              "          const docLinkHtml = 'Like what you see? Visit the ' +\n",
              "            '<a target=\"_blank\" href=https://colab.research.google.com/notebooks/data_table.ipynb>data table notebook</a>'\n",
              "            + ' to learn more about interactive tables.';\n",
              "          element.innerHTML = '';\n",
              "          dataTable['output_type'] = 'display_data';\n",
              "          await google.colab.output.renderOutput(dataTable, element);\n",
              "          const docLink = document.createElement('div');\n",
              "          docLink.innerHTML = docLinkHtml;\n",
              "          element.appendChild(docLink);\n",
              "        }\n",
              "      </script>\n",
              "    </div>\n",
              "  </div>\n",
              "  "
            ]
          },
          "metadata": {},
          "execution_count": 33
        }
      ]
    },
    {
      "cell_type": "code",
      "source": [
        "round(wins.percentage.mean(), 2)"
      ],
      "metadata": {
        "colab": {
          "base_uri": "https://localhost:8080/"
        },
        "id": "VwgLh_DIk_Sm",
        "outputId": "2faf0bd1-f8a1-4759-b356-f895b87b802e"
      },
      "execution_count": null,
      "outputs": [
        {
          "output_type": "execute_result",
          "data": {
            "text/plain": [
              "1.28"
            ]
          },
          "metadata": {},
          "execution_count": 34
        }
      ]
    },
    {
      "cell_type": "code",
      "source": [
        "loss = df[df.win_loss == \"L\"]"
      ],
      "metadata": {
        "id": "XUz95wVQk_QK"
      },
      "execution_count": null,
      "outputs": []
    },
    {
      "cell_type": "code",
      "source": [
        "loss.head(5)"
      ],
      "metadata": {
        "colab": {
          "base_uri": "https://localhost:8080/",
          "height": 206
        },
        "id": "1O79rFjuk_N0",
        "outputId": "e3995a8a-ed61-480e-da74-8a52be437484"
      },
      "execution_count": null,
      "outputs": [
        {
          "output_type": "execute_result",
          "data": {
            "text/plain": [
              "   ticker        data win_loss buy_sell time  percentage type\n",
              "8   PETR4  15/12/2021        L     BUY    15       -0.20   DT\n",
              "29  ABEV3  31/01/2022        L     BUY    15       -0.42   DT\n",
              "34  ITSA4  14/02/2022        L     SELL    5        0.39   DT\n",
              "39  ABEV3  21/02/2022        L     SELL   15       -0.61   DT\n",
              "40  VALE3  21/02/2022        L     BUY    15       -0.70   DT"
            ],
            "text/html": [
              "\n",
              "  <div id=\"df-492bdaf4-aaa1-4805-a643-5bd6a8ec2aae\">\n",
              "    <div class=\"colab-df-container\">\n",
              "      <div>\n",
              "<style scoped>\n",
              "    .dataframe tbody tr th:only-of-type {\n",
              "        vertical-align: middle;\n",
              "    }\n",
              "\n",
              "    .dataframe tbody tr th {\n",
              "        vertical-align: top;\n",
              "    }\n",
              "\n",
              "    .dataframe thead th {\n",
              "        text-align: right;\n",
              "    }\n",
              "</style>\n",
              "<table border=\"1\" class=\"dataframe\">\n",
              "  <thead>\n",
              "    <tr style=\"text-align: right;\">\n",
              "      <th></th>\n",
              "      <th>ticker</th>\n",
              "      <th>data</th>\n",
              "      <th>win_loss</th>\n",
              "      <th>buy_sell</th>\n",
              "      <th>time</th>\n",
              "      <th>percentage</th>\n",
              "      <th>type</th>\n",
              "    </tr>\n",
              "  </thead>\n",
              "  <tbody>\n",
              "    <tr>\n",
              "      <th>8</th>\n",
              "      <td>PETR4</td>\n",
              "      <td>15/12/2021</td>\n",
              "      <td>L</td>\n",
              "      <td>BUY</td>\n",
              "      <td>15</td>\n",
              "      <td>-0.20</td>\n",
              "      <td>DT</td>\n",
              "    </tr>\n",
              "    <tr>\n",
              "      <th>29</th>\n",
              "      <td>ABEV3</td>\n",
              "      <td>31/01/2022</td>\n",
              "      <td>L</td>\n",
              "      <td>BUY</td>\n",
              "      <td>15</td>\n",
              "      <td>-0.42</td>\n",
              "      <td>DT</td>\n",
              "    </tr>\n",
              "    <tr>\n",
              "      <th>34</th>\n",
              "      <td>ITSA4</td>\n",
              "      <td>14/02/2022</td>\n",
              "      <td>L</td>\n",
              "      <td>SELL</td>\n",
              "      <td>5</td>\n",
              "      <td>0.39</td>\n",
              "      <td>DT</td>\n",
              "    </tr>\n",
              "    <tr>\n",
              "      <th>39</th>\n",
              "      <td>ABEV3</td>\n",
              "      <td>21/02/2022</td>\n",
              "      <td>L</td>\n",
              "      <td>SELL</td>\n",
              "      <td>15</td>\n",
              "      <td>-0.61</td>\n",
              "      <td>DT</td>\n",
              "    </tr>\n",
              "    <tr>\n",
              "      <th>40</th>\n",
              "      <td>VALE3</td>\n",
              "      <td>21/02/2022</td>\n",
              "      <td>L</td>\n",
              "      <td>BUY</td>\n",
              "      <td>15</td>\n",
              "      <td>-0.70</td>\n",
              "      <td>DT</td>\n",
              "    </tr>\n",
              "  </tbody>\n",
              "</table>\n",
              "</div>\n",
              "      <button class=\"colab-df-convert\" onclick=\"convertToInteractive('df-492bdaf4-aaa1-4805-a643-5bd6a8ec2aae')\"\n",
              "              title=\"Convert this dataframe to an interactive table.\"\n",
              "              style=\"display:none;\">\n",
              "        \n",
              "  <svg xmlns=\"http://www.w3.org/2000/svg\" height=\"24px\"viewBox=\"0 0 24 24\"\n",
              "       width=\"24px\">\n",
              "    <path d=\"M0 0h24v24H0V0z\" fill=\"none\"/>\n",
              "    <path d=\"M18.56 5.44l.94 2.06.94-2.06 2.06-.94-2.06-.94-.94-2.06-.94 2.06-2.06.94zm-11 1L8.5 8.5l.94-2.06 2.06-.94-2.06-.94L8.5 2.5l-.94 2.06-2.06.94zm10 10l.94 2.06.94-2.06 2.06-.94-2.06-.94-.94-2.06-.94 2.06-2.06.94z\"/><path d=\"M17.41 7.96l-1.37-1.37c-.4-.4-.92-.59-1.43-.59-.52 0-1.04.2-1.43.59L10.3 9.45l-7.72 7.72c-.78.78-.78 2.05 0 2.83L4 21.41c.39.39.9.59 1.41.59.51 0 1.02-.2 1.41-.59l7.78-7.78 2.81-2.81c.8-.78.8-2.07 0-2.86zM5.41 20L4 18.59l7.72-7.72 1.47 1.35L5.41 20z\"/>\n",
              "  </svg>\n",
              "      </button>\n",
              "      \n",
              "  <style>\n",
              "    .colab-df-container {\n",
              "      display:flex;\n",
              "      flex-wrap:wrap;\n",
              "      gap: 12px;\n",
              "    }\n",
              "\n",
              "    .colab-df-convert {\n",
              "      background-color: #E8F0FE;\n",
              "      border: none;\n",
              "      border-radius: 50%;\n",
              "      cursor: pointer;\n",
              "      display: none;\n",
              "      fill: #1967D2;\n",
              "      height: 32px;\n",
              "      padding: 0 0 0 0;\n",
              "      width: 32px;\n",
              "    }\n",
              "\n",
              "    .colab-df-convert:hover {\n",
              "      background-color: #E2EBFA;\n",
              "      box-shadow: 0px 1px 2px rgba(60, 64, 67, 0.3), 0px 1px 3px 1px rgba(60, 64, 67, 0.15);\n",
              "      fill: #174EA6;\n",
              "    }\n",
              "\n",
              "    [theme=dark] .colab-df-convert {\n",
              "      background-color: #3B4455;\n",
              "      fill: #D2E3FC;\n",
              "    }\n",
              "\n",
              "    [theme=dark] .colab-df-convert:hover {\n",
              "      background-color: #434B5C;\n",
              "      box-shadow: 0px 1px 3px 1px rgba(0, 0, 0, 0.15);\n",
              "      filter: drop-shadow(0px 1px 2px rgba(0, 0, 0, 0.3));\n",
              "      fill: #FFFFFF;\n",
              "    }\n",
              "  </style>\n",
              "\n",
              "      <script>\n",
              "        const buttonEl =\n",
              "          document.querySelector('#df-492bdaf4-aaa1-4805-a643-5bd6a8ec2aae button.colab-df-convert');\n",
              "        buttonEl.style.display =\n",
              "          google.colab.kernel.accessAllowed ? 'block' : 'none';\n",
              "\n",
              "        async function convertToInteractive(key) {\n",
              "          const element = document.querySelector('#df-492bdaf4-aaa1-4805-a643-5bd6a8ec2aae');\n",
              "          const dataTable =\n",
              "            await google.colab.kernel.invokeFunction('convertToInteractive',\n",
              "                                                     [key], {});\n",
              "          if (!dataTable) return;\n",
              "\n",
              "          const docLinkHtml = 'Like what you see? Visit the ' +\n",
              "            '<a target=\"_blank\" href=https://colab.research.google.com/notebooks/data_table.ipynb>data table notebook</a>'\n",
              "            + ' to learn more about interactive tables.';\n",
              "          element.innerHTML = '';\n",
              "          dataTable['output_type'] = 'display_data';\n",
              "          await google.colab.output.renderOutput(dataTable, element);\n",
              "          const docLink = document.createElement('div');\n",
              "          docLink.innerHTML = docLinkHtml;\n",
              "          element.appendChild(docLink);\n",
              "        }\n",
              "      </script>\n",
              "    </div>\n",
              "  </div>\n",
              "  "
            ]
          },
          "metadata": {},
          "execution_count": 36
        }
      ]
    },
    {
      "cell_type": "code",
      "source": [
        "round(loss.percentage.mean(), 2) "
      ],
      "metadata": {
        "colab": {
          "base_uri": "https://localhost:8080/"
        },
        "id": "JvgiwJAnk_Ln",
        "outputId": "7b88da07-6835-4b40-c53a-c2b57c3ea6b3"
      },
      "execution_count": null,
      "outputs": [
        {
          "output_type": "execute_result",
          "data": {
            "text/plain": [
              "-0.58"
            ]
          },
          "metadata": {},
          "execution_count": 37
        }
      ]
    },
    {
      "cell_type": "code",
      "source": [
        "plt.figure(figsize = (7, 6))\n",
        "plt.title(\"PIZZA RELACAO MEDIA DE WIN E LOSS\")\n",
        "\n",
        "colors = sns.color_palette('pastel')[0:3]\n",
        "plt.pie([1.28, .58], labels = [\"Wins\", \"Loss\"], colors = colors, autopct='%.1f%%');"
      ],
      "metadata": {
        "colab": {
          "base_uri": "https://localhost:8080/",
          "height": 373
        },
        "id": "4g_6EnjPk_JZ",
        "outputId": "f752c0a1-1010-45b3-dec0-b9d8158552db"
      },
      "execution_count": null,
      "outputs": [
        {
          "output_type": "display_data",
          "data": {
            "text/plain": [
              "<Figure size 504x432 with 1 Axes>"
            ],
            "image/png": "[encoded data removed]"
          },
          "metadata": {}
        }
      ]
    },
    {
      "cell_type": "code",
      "source": [
        "plt.figure(figsize = (7, 6))\n",
        "plt.title(\"PIZZA RELACAO TOTAL DE WIN E LOSS\")\n",
        "\n",
        "\n",
        "colors = sns.color_palette('pastel')[0:3]\n",
        "plt.pie(df.win_loss.value_counts(), labels = [\"Wins\", \"Loss\", \"Neutral\"], colors = colors, autopct='%.1f%%');"
      ],
      "metadata": {
        "colab": {
          "base_uri": "https://localhost:8080/",
          "height": 373
        },
        "id": "Ljx6KOiMk_HB",
        "outputId": "3e6a9ced-ca08-4b6f-ed7c-1042a62a3ee4"
      },
      "execution_count": null,
      "outputs": [
        {
          "output_type": "display_data",
          "data": {
            "text/plain": [
              "<Figure size 504x432 with 1 Axes>"
            ],
            "image/png": "[encoded data removed]"
          },
          "metadata": {}
        }
      ]
    },
    {
      "cell_type": "code",
      "source": [],
      "metadata": {
        "id": "kfkVzznuwb2G"
      },
      "execution_count": null,
      "outputs": []
    },
    {
      "cell_type": "code",
      "source": [],
      "metadata": {
        "id": "_nzfcNcRwbzu"
      },
      "execution_count": null,
      "outputs": []
    },
    {
      "cell_type": "code",
      "source": [],
      "metadata": {
        "id": "AnIitPEWwbw9"
      },
      "execution_count": null,
      "outputs": []
    },
    {
      "cell_type": "code",
      "source": [],
      "metadata": {
        "id": "w-UZ1MW6wbun"
      },
      "execution_count": null,
      "outputs": []
    },
    {
      "cell_type": "code",
      "source": [],
      "metadata": {
        "id": "_59GGX3swbr6"
      },
      "execution_count": null,
      "outputs": []
    },
    {
      "cell_type": "code",
      "source": [],
      "metadata": {
        "id": "cJE6i-g2wbpo"
      },
      "execution_count": null,
      "outputs": []
    },
    {
      "cell_type": "code",
      "source": [],
      "metadata": {
        "id": "aG0AoZ4lwbnG"
      },
      "execution_count": null,
      "outputs": []
    },
    {
      "cell_type": "code",
      "source": [],
      "metadata": {
        "id": "c5kZX-KOwbkq"
      },
      "execution_count": null,
      "outputs": []
    },
    {
      "cell_type": "code",
      "source": [],
      "metadata": {
        "id": "_KLsW2o0wbiT"
      },
      "execution_count": null,
      "outputs": []
    },
    {
      "cell_type": "code",
      "source": [],
      "metadata": {
        "id": "aK1iCLFWwbgD"
      },
      "execution_count": null,
      "outputs": []
    },
    {
      "cell_type": "code",
      "source": [],
      "metadata": {
        "id": "pSJwWCInwbdk"
      },
      "execution_count": null,
      "outputs": []
    },
    {
      "cell_type": "code",
      "source": [],
      "metadata": {
        "id": "1hxbho1XwbbZ"
      },
      "execution_count": null,
      "outputs": []
    }
  ]
}