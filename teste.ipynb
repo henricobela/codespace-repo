{
 "cells": [
  {
   "cell_type": "code",
   "execution_count": 23,
   "metadata": {},
   "outputs": [],
   "source": [
    "import pandas as pd\n",
    "import matplotlib.pyplot as plt\n",
    "import seaborn as sns"
   ]
  },
  {
   "cell_type": "code",
   "execution_count": 20,
   "metadata": {},
   "outputs": [
    {
     "data": {
      "text/html": [
       "<div>\n",
       "<style scoped>\n",
       "    .dataframe tbody tr th:only-of-type {\n",
       "        vertical-align: middle;\n",
       "    }\n",
       "\n",
       "    .dataframe tbody tr th {\n",
       "        vertical-align: top;\n",
       "    }\n",
       "\n",
       "    .dataframe thead th {\n",
       "        text-align: right;\n",
       "    }\n",
       "</style>\n",
       "<table border=\"1\" class=\"dataframe\">\n",
       "  <thead>\n",
       "    <tr style=\"text-align: right;\">\n",
       "      <th></th>\n",
       "      <th>nfe</th>\n",
       "      <th>data</th>\n",
       "      <th>vendedor_id</th>\n",
       "      <th>cliente_id</th>\n",
       "      <th>produto_id</th>\n",
       "      <th>valor_desconto</th>\n",
       "      <th>item_quantidade</th>\n",
       "      <th>valor_unitario</th>\n",
       "    </tr>\n",
       "  </thead>\n",
       "  <tbody>\n",
       "    <tr>\n",
       "      <th>0</th>\n",
       "      <td>SO43693</td>\n",
       "      <td>2020-03-08</td>\n",
       "      <td>5</td>\n",
       "      <td>195</td>\n",
       "      <td>79</td>\n",
       "      <td>11.7902</td>\n",
       "      <td>1</td>\n",
       "      <td>167</td>\n",
       "    </tr>\n",
       "    <tr>\n",
       "      <th>1</th>\n",
       "      <td>SO43895</td>\n",
       "      <td>2020-03-17</td>\n",
       "      <td>5</td>\n",
       "      <td>595</td>\n",
       "      <td>79</td>\n",
       "      <td>11.0387</td>\n",
       "      <td>1</td>\n",
       "      <td>167</td>\n",
       "    </tr>\n",
       "    <tr>\n",
       "      <th>2</th>\n",
       "      <td>SO44100</td>\n",
       "      <td>2020-03-27</td>\n",
       "      <td>5</td>\n",
       "      <td>530</td>\n",
       "      <td>79</td>\n",
       "      <td>11.6399</td>\n",
       "      <td>1</td>\n",
       "      <td>167</td>\n",
       "    </tr>\n",
       "    <tr>\n",
       "      <th>3</th>\n",
       "      <td>SO44283</td>\n",
       "      <td>2020-04-04</td>\n",
       "      <td>5</td>\n",
       "      <td>165</td>\n",
       "      <td>79</td>\n",
       "      <td>8.7675</td>\n",
       "      <td>1</td>\n",
       "      <td>167</td>\n",
       "    </tr>\n",
       "    <tr>\n",
       "      <th>4</th>\n",
       "      <td>SO44504</td>\n",
       "      <td>2020-04-17</td>\n",
       "      <td>5</td>\n",
       "      <td>221</td>\n",
       "      <td>79</td>\n",
       "      <td>13.0594</td>\n",
       "      <td>1</td>\n",
       "      <td>167</td>\n",
       "    </tr>\n",
       "    <tr>\n",
       "      <th>...</th>\n",
       "      <td>...</td>\n",
       "      <td>...</td>\n",
       "      <td>...</td>\n",
       "      <td>...</td>\n",
       "      <td>...</td>\n",
       "      <td>...</td>\n",
       "      <td>...</td>\n",
       "      <td>...</td>\n",
       "    </tr>\n",
       "    <tr>\n",
       "      <th>54678</th>\n",
       "      <td>SO117675</td>\n",
       "      <td>2022-11-02</td>\n",
       "      <td>5</td>\n",
       "      <td>671</td>\n",
       "      <td>91</td>\n",
       "      <td>14.0175</td>\n",
       "      <td>3</td>\n",
       "      <td>75</td>\n",
       "    </tr>\n",
       "    <tr>\n",
       "      <th>54679</th>\n",
       "      <td>SO117675</td>\n",
       "      <td>2022-11-02</td>\n",
       "      <td>5</td>\n",
       "      <td>671</td>\n",
       "      <td>91</td>\n",
       "      <td>14.0175</td>\n",
       "      <td>3</td>\n",
       "      <td>75</td>\n",
       "    </tr>\n",
       "    <tr>\n",
       "      <th>54680</th>\n",
       "      <td>SO117675</td>\n",
       "      <td>2022-11-02</td>\n",
       "      <td>5</td>\n",
       "      <td>671</td>\n",
       "      <td>91</td>\n",
       "      <td>14.0175</td>\n",
       "      <td>3</td>\n",
       "      <td>75</td>\n",
       "    </tr>\n",
       "    <tr>\n",
       "      <th>54681</th>\n",
       "      <td>SO117675</td>\n",
       "      <td>2022-11-02</td>\n",
       "      <td>5</td>\n",
       "      <td>671</td>\n",
       "      <td>91</td>\n",
       "      <td>14.0175</td>\n",
       "      <td>3</td>\n",
       "      <td>75</td>\n",
       "    </tr>\n",
       "    <tr>\n",
       "      <th>54682</th>\n",
       "      <td>SO117675</td>\n",
       "      <td>2022-11-02</td>\n",
       "      <td>5</td>\n",
       "      <td>671</td>\n",
       "      <td>91</td>\n",
       "      <td>14.0175</td>\n",
       "      <td>3</td>\n",
       "      <td>75</td>\n",
       "    </tr>\n",
       "  </tbody>\n",
       "</table>\n",
       "<p>54683 rows × 8 columns</p>\n",
       "</div>"
      ],
      "text/plain": [
       "            nfe       data  vendedor_id  cliente_id  produto_id  \\\n",
       "0       SO43693 2020-03-08            5         195          79   \n",
       "1       SO43895 2020-03-17            5         595          79   \n",
       "2       SO44100 2020-03-27            5         530          79   \n",
       "3       SO44283 2020-04-04            5         165          79   \n",
       "4       SO44504 2020-04-17            5         221          79   \n",
       "...         ...        ...          ...         ...         ...   \n",
       "54678  SO117675 2022-11-02            5         671          91   \n",
       "54679  SO117675 2022-11-02            5         671          91   \n",
       "54680  SO117675 2022-11-02            5         671          91   \n",
       "54681  SO117675 2022-11-02            5         671          91   \n",
       "54682  SO117675 2022-11-02            5         671          91   \n",
       "\n",
       "       valor_desconto  item_quantidade  valor_unitario  \n",
       "0             11.7902                1             167  \n",
       "1             11.0387                1             167  \n",
       "2             11.6399                1             167  \n",
       "3              8.7675                1             167  \n",
       "4             13.0594                1             167  \n",
       "...               ...              ...             ...  \n",
       "54678         14.0175                3              75  \n",
       "54679         14.0175                3              75  \n",
       "54680         14.0175                3              75  \n",
       "54681         14.0175                3              75  \n",
       "54682         14.0175                3              75  \n",
       "\n",
       "[54683 rows x 8 columns]"
      ]
     },
     "execution_count": 20,
     "metadata": {},
     "output_type": "execute_result"
    }
   ],
   "source": [
    "df = pd.read_excel(\"teste123.xlsx\", sheet_name = \"fVendas\")\n",
    "df"
   ]
  },
  {
   "cell_type": "code",
   "execution_count": 4,
   "metadata": {},
   "outputs": [
    {
     "name": "stdout",
     "output_type": "stream",
     "text": [
      "<class 'pandas.core.frame.DataFrame'>\n",
      "RangeIndex: 54683 entries, 0 to 54682\n",
      "Data columns (total 8 columns):\n",
      " #   Column           Non-Null Count  Dtype         \n",
      "---  ------           --------------  -----         \n",
      " 0   nfe              54683 non-null  object        \n",
      " 1   data             54683 non-null  datetime64[ns]\n",
      " 2   vendedor_id      54683 non-null  int64         \n",
      " 3   cliente_id       54683 non-null  int64         \n",
      " 4   produto_id       54683 non-null  int64         \n",
      " 5   valor_desconto   54683 non-null  float64       \n",
      " 6   item_quantidade  54683 non-null  int64         \n",
      " 7   valor_unitario   54683 non-null  int64         \n",
      "dtypes: datetime64[ns](1), float64(1), int64(5), object(1)\n",
      "memory usage: 3.3+ MB\n"
     ]
    }
   ],
   "source": [
    "df.info()"
   ]
  },
  {
   "cell_type": "code",
   "execution_count": 5,
   "metadata": {},
   "outputs": [
    {
     "data": {
      "text/html": [
       "<div>\n",
       "<style scoped>\n",
       "    .dataframe tbody tr th:only-of-type {\n",
       "        vertical-align: middle;\n",
       "    }\n",
       "\n",
       "    .dataframe tbody tr th {\n",
       "        vertical-align: top;\n",
       "    }\n",
       "\n",
       "    .dataframe thead th {\n",
       "        text-align: right;\n",
       "    }\n",
       "</style>\n",
       "<table border=\"1\" class=\"dataframe\">\n",
       "  <thead>\n",
       "    <tr style=\"text-align: right;\">\n",
       "      <th></th>\n",
       "      <th>vendedor_id</th>\n",
       "      <th>cliente_id</th>\n",
       "      <th>produto_id</th>\n",
       "      <th>valor_desconto</th>\n",
       "      <th>item_quantidade</th>\n",
       "      <th>valor_unitario</th>\n",
       "    </tr>\n",
       "  </thead>\n",
       "  <tbody>\n",
       "    <tr>\n",
       "      <th>count</th>\n",
       "      <td>54683.000000</td>\n",
       "      <td>54683.000000</td>\n",
       "      <td>54683.000000</td>\n",
       "      <td>54683.000000</td>\n",
       "      <td>54683.000000</td>\n",
       "      <td>54683.000000</td>\n",
       "    </tr>\n",
       "    <tr>\n",
       "      <th>mean</th>\n",
       "      <td>6.507159</td>\n",
       "      <td>357.305415</td>\n",
       "      <td>49.839457</td>\n",
       "      <td>11.549212</td>\n",
       "      <td>1.242233</td>\n",
       "      <td>147.054240</td>\n",
       "    </tr>\n",
       "    <tr>\n",
       "      <th>std</th>\n",
       "      <td>3.439944</td>\n",
       "      <td>202.742387</td>\n",
       "      <td>29.013637</td>\n",
       "      <td>5.805623</td>\n",
       "      <td>0.652531</td>\n",
       "      <td>75.159151</td>\n",
       "    </tr>\n",
       "    <tr>\n",
       "      <th>min</th>\n",
       "      <td>1.000000</td>\n",
       "      <td>1.000000</td>\n",
       "      <td>1.000000</td>\n",
       "      <td>0.000000</td>\n",
       "      <td>1.000000</td>\n",
       "      <td>75.000000</td>\n",
       "    </tr>\n",
       "    <tr>\n",
       "      <th>25%</th>\n",
       "      <td>4.000000</td>\n",
       "      <td>185.000000</td>\n",
       "      <td>24.000000</td>\n",
       "      <td>7.838200</td>\n",
       "      <td>1.000000</td>\n",
       "      <td>106.000000</td>\n",
       "    </tr>\n",
       "    <tr>\n",
       "      <th>50%</th>\n",
       "      <td>6.000000</td>\n",
       "      <td>368.000000</td>\n",
       "      <td>49.000000</td>\n",
       "      <td>10.305000</td>\n",
       "      <td>1.000000</td>\n",
       "      <td>144.000000</td>\n",
       "    </tr>\n",
       "    <tr>\n",
       "      <th>75%</th>\n",
       "      <td>10.000000</td>\n",
       "      <td>530.000000</td>\n",
       "      <td>78.000000</td>\n",
       "      <td>13.677300</td>\n",
       "      <td>1.000000</td>\n",
       "      <td>167.000000</td>\n",
       "    </tr>\n",
       "    <tr>\n",
       "      <th>max</th>\n",
       "      <td>12.000000</td>\n",
       "      <td>701.000000</td>\n",
       "      <td>93.000000</td>\n",
       "      <td>68.257000</td>\n",
       "      <td>3.000000</td>\n",
       "      <td>490.000000</td>\n",
       "    </tr>\n",
       "  </tbody>\n",
       "</table>\n",
       "</div>"
      ],
      "text/plain": [
       "        vendedor_id    cliente_id    produto_id  valor_desconto  \\\n",
       "count  54683.000000  54683.000000  54683.000000    54683.000000   \n",
       "mean       6.507159    357.305415     49.839457       11.549212   \n",
       "std        3.439944    202.742387     29.013637        5.805623   \n",
       "min        1.000000      1.000000      1.000000        0.000000   \n",
       "25%        4.000000    185.000000     24.000000        7.838200   \n",
       "50%        6.000000    368.000000     49.000000       10.305000   \n",
       "75%       10.000000    530.000000     78.000000       13.677300   \n",
       "max       12.000000    701.000000     93.000000       68.257000   \n",
       "\n",
       "       item_quantidade  valor_unitario  \n",
       "count     54683.000000    54683.000000  \n",
       "mean          1.242233      147.054240  \n",
       "std           0.652531       75.159151  \n",
       "min           1.000000       75.000000  \n",
       "25%           1.000000      106.000000  \n",
       "50%           1.000000      144.000000  \n",
       "75%           1.000000      167.000000  \n",
       "max           3.000000      490.000000  "
      ]
     },
     "execution_count": 5,
     "metadata": {},
     "output_type": "execute_result"
    }
   ],
   "source": [
    "df.describe()"
   ]
  },
  {
   "cell_type": "code",
   "execution_count": 6,
   "metadata": {},
   "outputs": [
    {
     "data": {
      "text/plain": [
       "Index(['nfe', 'data', 'vendedor_id', 'cliente_id', 'produto_id',\n",
       "       'valor_desconto', 'item_quantidade', 'valor_unitario'],\n",
       "      dtype='object')"
      ]
     },
     "execution_count": 6,
     "metadata": {},
     "output_type": "execute_result"
    }
   ],
   "source": [
    "df.columns"
   ]
  },
  {
   "cell_type": "code",
   "execution_count": 9,
   "metadata": {},
   "outputs": [
    {
     "data": {
      "text/plain": [
       "3431"
      ]
     },
     "execution_count": 9,
     "metadata": {},
     "output_type": "execute_result"
    }
   ],
   "source": [
    "len(df.nfe.unique())"
   ]
  },
  {
   "cell_type": "code",
   "execution_count": 21,
   "metadata": {},
   "outputs": [
    {
     "data": {
      "text/plain": [
       "array([ 5,  4,  3,  1,  8,  7,  2, 12, 11,  6,  9, 10])"
      ]
     },
     "execution_count": 21,
     "metadata": {},
     "output_type": "execute_result"
    }
   ],
   "source": [
    "df.vendedor_id"
   ]
  },
  {
   "cell_type": "code",
   "execution_count": 54,
   "metadata": {},
   "outputs": [],
   "source": [
    "index = df.vendedor_id.value_counts().index"
   ]
  },
  {
   "cell_type": "code",
   "execution_count": 58,
   "metadata": {},
   "outputs": [
    {
     "data": {
      "text/plain": [
       "Int64Index([5, 3, 11, 4, 12, 10, 8, 7, 9, 2, 1, 6], dtype='int64')"
      ]
     },
     "execution_count": 58,
     "metadata": {},
     "output_type": "execute_result"
    }
   ],
   "source": [
    "index"
   ]
  },
  {
   "cell_type": "code",
   "execution_count": 38,
   "metadata": {},
   "outputs": [],
   "source": [
    "count = df.vendedor_id.value_counts()"
   ]
  },
  {
   "cell_type": "code",
   "execution_count": 57,
   "metadata": {},
   "outputs": [
    {
     "data": {
      "image/png": "[encoded data removed]",
      "text/plain": [
       "<Figure size 1000x600 with 1 Axes>"
      ]
     },
     "metadata": {},
     "output_type": "display_data"
    }
   ],
   "source": [
    "plt.figure(figsize=(10, 6))\n",
    "\n",
    "ax = sns.countplot(data = df, x = \"vendedor_id\", order = index)\n",
    "\n",
    "for patch in ax.patches:\n",
    "    y_value = patch.get_height()\n",
    "    x_value = patch.get_x() + patch.get_width() / 2\n",
    "    space = 1\n",
    "    label = format(y_value)\n",
    "    ax.annotate(label, \n",
    "                (x_value, y_value), \n",
    "                xytext = (0, space), \n",
    "                textcoords = \"offset points\", \n",
    "                ha = \"center\", \n",
    "                va = \"bottom\")\n",
    "\n",
    "plt.title(\"VENDEDOR X QUANTIDADE DE VENDAS\", fontsize = 23)\n",
    "plt.xlabel(xlabel=\"Vendedor\", fontsize = 15)\n",
    "plt.ylabel(ylabel=\"Quantidade de Vendas\", fontsize = 15);"
   ]
  },
  {
   "cell_type": "code",
   "execution_count": null,
   "metadata": {},
   "outputs": [],
   "source": []
  },
  {
   "cell_type": "code",
   "execution_count": null,
   "metadata": {},
   "outputs": [],
   "source": []
  },
  {
   "cell_type": "code",
   "execution_count": null,
   "metadata": {},
   "outputs": [],
   "source": []
  },
  {
   "cell_type": "code",
   "execution_count": null,
   "metadata": {},
   "outputs": [],
   "source": []
  }
 ],
 "metadata": {
  "kernelspec": {
   "display_name": "Python 3",
   "language": "python",
   "name": "python3"
  },
  "language_info": {
   "codemirror_mode": {
    "name": "ipython",
    "version": 3
   },
   "file_extension": ".py",
   "mimetype": "text/x-python",
   "name": "python",
   "nbconvert_exporter": "python",
   "pygments_lexer": "ipython3",
   "version": "3.10.4 (main, Nov 29 2022, 20:00:25) [GCC 9.4.0]"
  },
  "orig_nbformat": 4,
  "vscode": {
   "interpreter": {
    "hash": "3ad933181bd8a04b432d3370b9dc3b0662ad032c4dfaa4e4f1596c548f763858"
   }
  }
 },
 "nbformat": 4,
 "nbformat_minor": 2
}
